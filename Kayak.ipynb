{
 "cells": [
  {
   "cell_type": "markdown",
   "metadata": {},
   "source": [
    "\n",
    "# Plan your trip with Kayak \n",
    "\n",
    "## Company's description 📇\n",
    "\n",
    "<a href=\"https://www.kayak.com\" target=\"_blank\">Kayak</a> is a travel search engine that helps user plan their next trip at the best price.\n",
    "\n",
    "The company was founded in 2004 by Steve Hafner & Paul M. English. After a few rounds of fundraising, Kayak was acquired by <a href=\"https://www.bookingholdings.com/\" target=\"_blank\">Booking Holdings</a> which now holds: \n",
    "\n",
    "* <a href=\"https://booking.com/\" target=\"_blank\">Booking.com</a>\n",
    "* <a href=\"https://kayak.com/\" target=\"_blank\">Kayak</a>\n",
    "* <a href=\"https://www.priceline.com/\" target=\"_blank\">Priceline</a>\n",
    "* <a href=\"https://www.agoda.com/\" target=\"_blank\">Agoda</a>\n",
    "* <a href=\"https://Rentalcars.com/\" target=\"_blank\">RentalCars</a>\n",
    "* <a href=\"https://www.opentable.com/\" target=\"_blank\">OpenTable</a>\n",
    "\n",
    "With over \\$300 million revenue a year, Kayak operates in almost all countries and all languages to help their users book travels accros the globe. "
   ]
  },
  {
   "cell_type": "markdown",
   "metadata": {},
   "source": [
    "## Project 🚧\n",
    "\n",
    "The marketing team needs help on a new project. After doing some user research, the team discovered that **70% of their users who are planning a trip would like to have more information about the destination they are going to**. \n",
    "\n",
    "In addition, user research shows that **people tend to be defiant about the information they are reading if they don't know the brand** which produced the content. \n",
    "\n",
    "Therefore, Kayak Marketing Team would like to create an application that will recommend where people should plan their next holidays. The application should be based on real data about:\n",
    "\n",
    "* Weather \n",
    "* Hotels in the area \n",
    "\n",
    "The application should then be able to recommend the best destinations and hotels based on the above variables at any given time. "
   ]
  },
  {
   "cell_type": "markdown",
   "metadata": {},
   "source": [
    "## Goals 🎯\n",
    "\n",
    "As the project has just started, your team doesn't have any data that can be used to create this application. Therefore, your job will be to: \n",
    "\n",
    "* Scrape data from destinations \n",
    "* Get weather data from each destination \n",
    "* Get hotels' info about each destination\n",
    "* Store all the information above in a data lake\n",
    "* Extract, transform and load cleaned data from your datalake to a data warehouse"
   ]
  },
  {
   "cell_type": "markdown",
   "metadata": {},
   "source": [
    "## Scope of this project 🖼️\n",
    "\n",
    "Marketing team wants to focus first on the best cities to travel to in France. According <a href=\"https://one-week-in.com/35-cities-to-visit-in-france/\" target=\"_blank\">One Week In.com</a> here are the top-35 cities to visit in France: \n",
    "\n",
    "```python \n",
    "[\"Mont Saint Michel\",\n",
    "\"St Malo\",\n",
    "\"Bayeux\",\n",
    "\"Le Havre\",\n",
    "\"Rouen\",\n",
    "\"Paris\",\n",
    "\"Amiens\",\n",
    "\"Lille\",\n",
    "\"Strasbourg\",\n",
    "\"Chateau du Haut Koenigsbourg\",\n",
    "\"Colmar\",\n",
    "\"Eguisheim\",\n",
    "\"Besancon\",\n",
    "\"Dijon\",\n",
    "\"Annecy\",\n",
    "\"Grenoble\",\n",
    "\"Lyon\",\n",
    "\"Gorges du Verdon\",\n",
    "\"Bormes les Mimosas\",\n",
    "\"Cassis\",\n",
    "\"Marseille\",\n",
    "\"Aix en Provence\",\n",
    "\"Avignon\",\n",
    "\"Uzes\",\n",
    "\"Nimes\",\n",
    "\"Aigues Mortes\",\n",
    "\"Saintes Maries de la mer\",\n",
    "\"Collioure\",\n",
    "\"Carcassonne\",\n",
    "\"Ariege\",\n",
    "\"Toulouse\",\n",
    "\"Montauban\",\n",
    "\"Biarritz\",\n",
    "\"Bayonne\",\n",
    "\"La Rochelle\"]\n",
    "```\n",
    "\n",
    "Your team should focus **only on the above cities for your project**. \n"
   ]
  },
  {
   "cell_type": "markdown",
   "metadata": {},
   "source": [
    "## Helpers 🦮\n",
    "\n",
    "To help you achieve this project, here are a few tips that should help you\n",
    "\n",
    "### Get weather data with an API \n",
    "\n",
    "*   Use https://nominatim.org/ to get the gps coordinates of all the cities (no subscription required) Documentation : https://nominatim.org/release-docs/develop/api/Search/\n",
    "\n",
    "*   Use https://openweathermap.org/appid (you have to subscribe to get a free apikey) and https://openweathermap.org/api/one-call-api to get some information about the weather for the 35 cities and put it in a DataFrame\n",
    "\n",
    "*   Determine the list of cities where the weather will be the nicest within the next 7 days For example, you can use the values of daily.pop and daily.rain to compute the expected volume of rain within the next 7 days... But it's only an example, actually you can have different opinions on a what a nice weather would be like 😎 Maybe the most important criterion for you is the temperature or humidity, so feel free to change the rules !\n",
    "\n",
    "*   Save all the results in a `.csv` file, you will use it later 😉 You can save all the informations that seem important to you ! Don't forget to save the name of the cities, and also to create a column containing a unique identifier (id) of each city (this is important for what's next in the project)\n",
    "\n",
    "*   Use plotly to display the best destinations on a map\n",
    "\n",
    "### Scrape Booking.com \n",
    "\n",
    "Since BookingHoldings doesn't have aggregated databases, it will be much faster to scrape data directly from booking.com \n",
    "\n",
    "You can scrap as many information asyou want, but we suggest that you get at least:\n",
    "\n",
    "*   hotel name,\n",
    "*   Url to its booking.com page,\n",
    "*   Its coordinates: latitude and longitude\n",
    "*   Score given by the website users\n",
    "*   Text description of the hotel\n",
    "\n",
    "\n",
    "### Create your data lake using S3 \n",
    "\n",
    "Once you managed to build your dataset, you should store into S3 as a csv file. \n",
    "\n",
    "### ETL \n",
    "\n",
    "Once you uploaded your data onto S3, it will be better for the next data analysis team to extract clean data directly from a Data Warehouse. Therefore, create a SQL Database using AWS RDS, extract your data from S3 and store it in your newly created DB. "
   ]
  },
  {
   "cell_type": "markdown",
   "metadata": {},
   "source": [
    "## Deliverable 📬\n",
    "\n",
    "To complete this project, your team should deliver:\n",
    "\n",
    "* A `.csv` file in an S3 bucket containing enriched information about weather and hotels for each french city\n",
    "\n",
    "* A SQL Database where we should be able to get the same cleaned data from S3 \n",
    "\n",
    "* Two maps where you should have a Top-5 destinations and a Top-20 hotels in the area. You can use plotly or any other library to do so. It should look something like this: \n",
    "\n",
    "![Map](https://full-stack-assets.s3.eu-west-3.amazonaws.com/images/Kayak_best_destination_project.png)"
   ]
  },
  {
   "cell_type": "markdown",
   "metadata": {},
   "source": [
    "----------------------------------------------------------------------------------------------------------------------------------------------------"
   ]
  },
  {
   "cell_type": "markdown",
   "metadata": {},
   "source": [
    "## LIBRAIRIES"
   ]
  },
  {
   "cell_type": "markdown",
   "metadata": {},
   "source": [
    "---"
   ]
  },
  {
   "cell_type": "code",
   "execution_count": 1,
   "metadata": {},
   "outputs": [],
   "source": [
    "#import librairies\n",
    "\n",
    "#API AND SCRAPPING\n",
    "import requests\n",
    "import scrapy\n",
    "from scrapy.crawler import CrawlerProcess\n",
    "from bs4 import BeautifulSoup\n",
    "import json\n",
    "import re\n",
    "import logging\n",
    "\n",
    "#DATA MANIPULATION\n",
    "import pandas as pd\n",
    "import numpy as np\n",
    "import time\n",
    "import datetime\n",
    "\n",
    "#VISUALISATION\n",
    "import plotly.express as px\n",
    "import plotly.graph_objects as go\n",
    "import matplotlib.pyplot as plt\n",
    "import seaborn as sns\n",
    "import plotly.io as pio\n",
    "import folium\n",
    "from folium import plugins\n",
    "\n",
    "#STORAGE\n",
    "from dotenv import load_dotenv\n",
    "import os\n",
    "import boto3\n",
    "from sqlalchemy import create_engine, text\n",
    "from sqlalchemy.exc import OperationalError\n"
   ]
  },
  {
   "cell_type": "markdown",
   "metadata": {},
   "source": [
    "---"
   ]
  },
  {
   "cell_type": "markdown",
   "metadata": {},
   "source": [
    "## OBTENTION DES COORDONNES GPS"
   ]
  },
  {
   "cell_type": "markdown",
   "metadata": {},
   "source": [
    "---"
   ]
  },
  {
   "cell_type": "markdown",
   "metadata": {},
   "source": [
    "Première étape, obtenir les coodonnées GPS des villes qui nous intéresse (via nominatim.org). Cela nous permettra de les places sur notre carte finale mais aussi d'obtenir la météo locale.\n",
    "Concernant la liste, certains endroits ne sont pas des villes à proprement parler, mais nous verrons !"
   ]
  },
  {
   "cell_type": "code",
   "execution_count": 46,
   "metadata": {},
   "outputs": [],
   "source": [
    "# Liste des villes à visiter \n",
    "cities_list= [\n",
    "\"Mont Saint Michel\",\n",
    "\"St Malo\",\n",
    "\"Bayeux\",\n",
    "\"Le Havre\",\n",
    "\"Rouen\",\n",
    "\"Paris\",\n",
    "\"Amiens\",\n",
    "\"Lille\",\n",
    "\"Strasbourg\",\n",
    "\"Chateau du Haut Koenigsbourg\", # lieu touristique\n",
    "\"Colmar\",\n",
    "\"Eguisheim\",\n",
    "\"Besancon\",\n",
    "\"Dijon\",\n",
    "\"Annecy\",\n",
    "\"Grenoble\",\n",
    "\"Lyon\",\n",
    "\"Gorges du Verdon\", #zone touristique\n",
    "\"Bormes les Mimosas\",\n",
    "\"Cassis\",\n",
    "\"Marseille\",\n",
    "\"Aix en Provence\",\n",
    "\"Avignon\",\n",
    "\"Uzes\",\n",
    "\"Nimes\",\n",
    "\"Aigues Mortes\",\n",
    "\"Saintes Maries de la mer\",\n",
    "\"Collioure\",\n",
    "\"Carcassonne\",\n",
    "\"Ariege\", # département \n",
    "\"Toulouse\",\n",
    "\"Montauban\",\n",
    "\"Biarritz\",\n",
    "\"Bayonne\",\n",
    "\"La Rochelle\"\n",
    "]"
   ]
  },
  {
   "cell_type": "markdown",
   "metadata": {},
   "source": [
    "Créeons une fonction pour récupérer les coordonnées GPS pour la liste ci-dessus (avec un petit délais pour ne pas surcharger l'API) et les stocker dans un Dataframe"
   ]
  },
  {
   "cell_type": "code",
   "execution_count": null,
   "metadata": {},
   "outputs": [],
   "source": [
    "# import des coordonnées GPS de la liste des villes\n",
    "def get_coordinates(cities_list: list[str], delay: float = 0.5) -> pd.DataFrame:\n",
    "    \"\"\"\n",
    "    Récupère les coordonnées GPS pour une liste de villes.\n",
    "    \n",
    "    Args:\n",
    "        cities_list (list[str]): Liste des noms de villes.\n",
    "        delay (float): Temps d'attente entre deux requêtes (en secondes).\n",
    "    \n",
    "    Returns:\n",
    "        pd.DataFrame: DataFrame contenant les coordonnées GPS.\n",
    "    \"\"\"\n",
    "    url = \"https://nominatim.openstreetmap.org/search\"\n",
    "    headers = {\"User-Agent\": \"UniversityProject/1.0 (contact@example.com)\"}\n",
    "    results = []\n",
    "\n",
    "    for city in cities_list:\n",
    "        try:\n",
    "            response = requests.get(\n",
    "                url,\n",
    "                params={\"city\": city, \"format\": \"json\"},\n",
    "                headers=headers\n",
    "            )\n",
    "            response.raise_for_status()\n",
    "            data = response.json()\n",
    "\n",
    "            if data:\n",
    "                results.append({\n",
    "                    \"City\": city,\n",
    "                    \"Latitude\": data[0].get(\"lat\"),\n",
    "                    \"Longitude\": data[0].get(\"lon\")\n",
    "                })\n",
    "            else:\n",
    "                print(f\"Aucune donnée trouvée pour {city}\")\n",
    "        except requests.RequestException as e:\n",
    "            print(f\"Erreur pour {city}: {e}\")\n",
    "\n",
    "        time.sleep(delay)  # Respecter les limites de l'API\n",
    "\n",
    "    return pd.DataFrame(results)\n",
    "\n",
    "\n",
    "coordinates_df = get_coordinates(cities_list)\n",
    "\n",
    "print(coordinates_df)\n"
   ]
  },
  {
   "cell_type": "markdown",
   "metadata": {},
   "source": [
    "Les coordonnées du Chateau du Haut-Koenigsbourg et des Gorges du Verdon semblent cohérentes (elle le sont après vérifiction)..par contre la longitude -55.xx sur l'ariège pas du tout. Vérifions sur une carte\n"
   ]
  },
  {
   "cell_type": "code",
   "execution_count": null,
   "metadata": {},
   "outputs": [],
   "source": [
    "# Coordonnées GPS de la France\n",
    "latitude = 46.603354\n",
    "longitude = 1.888334\n",
    "\n",
    "# Création de la carte\n",
    "map_france = folium.Map(location=[latitude, longitude], zoom_start=6)\n",
    "\n",
    "# Ajout du marqueur pour la ville \"ariège\" (en rouge)\n",
    "for _, row in coordinates_df.iterrows():\n",
    "    if row[\"City\"] == \"Ariege\":\n",
    "        folium.Marker(\n",
    "            location=[row[\"Latitude\"], row[\"Longitude\"]],\n",
    "            popup=row[\"City\"],\n",
    "            icon=folium.Icon(color=\"red\")\n",
    "        ).add_to(map_france)\n",
    "\n",
    "# Affichage de la carte\n",
    "map_france.save(\"map_france.html\") # il faudra effectivement dézoomer pour voir le marque rouge\n",
    "map_france\n"
   ]
  },
  {
   "cell_type": "markdown",
   "metadata": {},
   "source": [
    "Remplaçons \"Ariege\" par la préfécture du département : \"Foix\""
   ]
  },
  {
   "cell_type": "code",
   "execution_count": null,
   "metadata": {},
   "outputs": [],
   "source": [
    "# Supprimer \"Ariège\"\n",
    "cities_list.remove(\"Ariege\")\n",
    "# .. et ajouter \"Foix\"\n",
    "cities_list.append(\"Foix\")"
   ]
  },
  {
   "cell_type": "code",
   "execution_count": null,
   "metadata": {},
   "outputs": [],
   "source": [
    "# coordonnées définitive des villes\n",
    "coordinates_df = get_coordinates(cities_list)\n",
    "print(coordinates_df)\n",
    "coordinates_df.to_csv(\"src/coordonnees_villes.csv\", index=False)"
   ]
  },
  {
   "cell_type": "markdown",
   "metadata": {},
   "source": [
    "---"
   ]
  },
  {
   "cell_type": "markdown",
   "metadata": {},
   "source": [
    "# OBTENTION DES INFOS METEOS PAR VILLE"
   ]
  },
  {
   "cell_type": "markdown",
   "metadata": {},
   "source": [
    "---"
   ]
  },
  {
   "cell_type": "markdown",
   "metadata": {},
   "source": [
    "## Récupération des données météorologiques via OpenWeatherMap API\n",
    "\n",
    "L'API gratuite d'OpenWeatherMap utilisée dans ce projet présente certaines limitations :\n",
    "- Fournit uniquement des prévisions (pas d'historique)\n",
    "- Données par tranches de 3 heures (00:00, 03:00, 06:00, 09:00, 12:00, 15:00, 18:00, 21:00.)\n",
    "- Prévisions sur 5 jours\n",
    "\n",
    "Pour assurer la cohérence des données :\n",
    "- Sélection d'un créneau horaire fixe (16h) pour toutes les villes\n",
    "- Exclusion des températures min/max qui ne sont pertinentes que sur 3h\n",
    "- Focus sur : température moyenne, humidité, vitesse du vent et précipitations\n",
    "\n",
    "Note : Les précipitations indiquées correspondent aux prévisions sur 3h autour du créneau choisi."
   ]
  },
  {
   "cell_type": "code",
   "execution_count": null,
   "metadata": {},
   "outputs": [],
   "source": [
    "# Charger les variables d'environnement\n",
    "load_dotenv('.secrets')\n",
    "API_KEY = os.getenv(\"OPENWEATHER_API_KEY\")\n",
    "\n",
    "# Charger le DataFrame\n",
    "df = pd.read_csv('src/coordonnees_villes.csv')\n",
    "\n",
    "# Fonction pour récupérer les données météo\n",
    "\n",
    "def get_weather(lat, lon):\n",
    "    url = f\"https://api.openweathermap.org/data/2.5/forecast?lat={lat}&lon={lon}&units=metric&appid={API_KEY}\"\n",
    "    try:\n",
    "        response = requests.get(url)\n",
    "        response.raise_for_status()\n",
    "        data = response.json()\n",
    "        \n",
    "        weather_data = []\n",
    "        if 'list' in data:\n",
    "            for forecast in data['list']:\n",
    "                if \"15:00:00\" in forecast['dt_txt']:\n",
    "                    weather_data.append({\n",
    "                        'day': len(weather_data) + 1,\n",
    "                        'temperature': forecast['main']['temp'],\n",
    "                        'humidity': forecast['main']['humidity'],\n",
    "                        'wind_speed': forecast['wind']['speed'],\n",
    "                        'precipitation': forecast.get('rain', {}).get('3h', 0)\n",
    "                    })\n",
    "        return weather_data\n",
    "    except requests.exceptions.RequestException as e:\n",
    "        print(f\"Erreur lors de la récupération des données météo: {e}\")\n",
    "        return None\n",
    "\n",
    "# Ajouter les colonnes météo au DataFrame\n",
    "for i in range(1, 6):\n",
    "    df[f'Temperature_Jour_{i}'] = None\n",
    "    df[f'Humidite_Jour_{i}'] = None\n",
    "    df[f'Vitesse_Vent_Jour_{i}'] = None\n",
    "    df[f'Precipitation_Jour_{i}'] = None\n",
    "\n",
    "for index, row in df.iterrows():\n",
    "    print(f\"Récupération données pour {row['City']}\")\n",
    "    weather_data = get_weather(row['Latitude'], row['Longitude'])\n",
    "    print(f\"Données reçues : {weather_data}\")\n",
    "    if weather_data:\n",
    "        for day_data in weather_data:\n",
    "            print(f\"Jour {day_data['day']}: {day_data}\")\n",
    "            day = day_data['day']\n",
    "            df.at[row.name, f'Temperature_Jour_{day}'] = day_data['temperature']\n",
    "            df.at[row.name, f'Humidite_Jour_{day}'] = day_data['humidity']\n",
    "            df.at[row.name, f'Vitesse_Vent_Jour_{day}'] = day_data['wind_speed']\n",
    "            df.at[row.name, f'Precipitation_Jour_{day}'] = day_data['precipitation']\n",
    "\n",
    "# Enregistrer le DataFrame mis à jour dans un fichier CSV\n",
    "df.to_csv('src/previsions_meteo.csv', index=False)\n",
    "\n",
    "# infos sur les données\n",
    "print(f\"\\nDonnées mises à jour pour {df['Temperature_Jour_1'].count()} villes sur {len(df)}\")"
   ]
  },
  {
   "cell_type": "markdown",
   "metadata": {},
   "source": [
    "---"
   ]
  },
  {
   "cell_type": "markdown",
   "metadata": {},
   "source": [
    "## SCRAPPING BOOKING.COM"
   ]
  },
  {
   "cell_type": "markdown",
   "metadata": {},
   "source": [
    "---"
   ]
  },
  {
   "cell_type": "markdown",
   "metadata": {},
   "source": [
    "Maintenant que nous avons les données météos des 5 prochains jours pour nos 35 villes. Récupérons une liste d'hotel pour ces villes.\n",
    "\n",
    "La latitude/longitude nécessitent une requête séparée car :\n",
    "- Ces données ne sont pas visibles sur la page de recherche principale\n",
    "- Elles sont uniquement présentes dans le code source de la page détaillée de chaque hôtel\n",
    "- spécifiquement dans une balise script au format JSON\n",
    "\n",
    "BeautifulSoup est utilisé car :\n",
    "- Il permet de cibler spécifiquement les balises script\n",
    "\n",
    "En résumé : deux étapes de scraping nécessaires pour obtenir toutes les données, avec BeautifulSoup comme outil optionnel mais qui permet une meilleure organisation du code."
   ]
  },
  {
   "cell_type": "code",
   "execution_count": null,
   "metadata": {},
   "outputs": [],
   "source": [
    "# Fonction pour extraire les coordonnées géographiques d'un hôtel à partir de son URL sur Booking.com\n",
    "def get_lat_lon_from_booking(url):\n",
    "    response = requests.get(url) # Effectue une requête HTTP pour obtenir le contenu de la page\n",
    "    if response.status_code != 200:\n",
    "        print(f\"Failed to retrieve the webpage. Status code: {response.status_code}\")\n",
    "        return None, None\n",
    "\n",
    "    soup = BeautifulSoup(response.text, 'html.parser') # Parse le contenu HTML de la réponse\n",
    "\n",
    "    script_tags = soup.find_all('script') # Trouve tous les éléments <script> dans le document HTML\n",
    "    for script in script_tags:\n",
    "        if 'latitude' in script.text and 'longitude' in script.text: # Cherche les scripts contenant des données de latitude et longitude\n",
    "            lat_lon_match = re.search(r'latitude\":([0-9.-]+),\"longitude\":([0-9.-]+)', script.text) # Extrait les valeurs à l'aide d'une expression régulière\n",
    "            if lat_lon_match:\n",
    "                latitude = lat_lon_match.group(1)\n",
    "                longitude = lat_lon_match.group(2)\n",
    "                return latitude, longitude\n",
    "\n",
    "    return None, None\n",
    "\n",
    "# Définition d'un Spider Scrapy pour l'extraction des données des hôtels sur Booking.com\n",
    "class BookingSpider(scrapy.Spider):\n",
    "    name = 'booking'\n",
    "    allowed_domains = ['booking.com']\n",
    "    start_urls = [ # URLs pour les recherches initiales sur Booking.com\n",
    "        'https://www.booking.com/searchresults.html?ss=Mont+Saint+Michel',\n",
    "        'https://www.booking.com/searchresults.html?ss=St+Malo',\n",
    "        'https://www.booking.com/searchresults.html?ss=Bayeux',\n",
    "        'https://www.booking.com/searchresults.html?ss=Le+Havre',\n",
    "        'https://www.booking.com/searchresults.html?ss=Rouen',\n",
    "        'https://www.booking.com/searchresults.html?ss=Paris',\n",
    "        'https://www.booking.com/searchresults.html?ss=Amiens',\n",
    "        'https://www.booking.com/searchresults.html?ss=Lille',\n",
    "        'https://www.booking.com/searchresults.html?ss=Strasbourg',\n",
    "        'https://www.booking.com/searchresults.html?ss=Chateau+du+Haut+Koenigsbourg',\n",
    "        'https://www.booking.com/searchresults.html?ss=Colmar',\n",
    "        'https://www.booking.com/searchresults.html?ss=Eguisheim',\n",
    "        'https://www.booking.com/searchresults.html?ss=Besancon',\n",
    "        'https://www.booking.com/searchresults.html?ss=Dijon',\n",
    "        'https://www.booking.com/searchresults.html?ss=Annecy',\n",
    "        'https://www.booking.com/searchresults.html?ss=Grenoble',\n",
    "        'https://www.booking.com/searchresults.html?ss=Lyon',\n",
    "        'https://www.booking.com/searchresults.html?ss=Gorges+du+Verdon',\n",
    "        'https://www.booking.com/searchresults.html?ss=Bormes+les+Mimosas',\n",
    "        'https://www.booking.com/searchresults.html?ss=Cassis',\n",
    "        'https://www.booking.com/searchresults.html?ss=Marseille',\n",
    "        'https://www.booking.com/searchresults.html?ss=Aix+en+Provence',\n",
    "        'https://www.booking.com/searchresults.html?ss=Avignon',\n",
    "        'https://www.booking.com/searchresults.html?ss=Uzes',\n",
    "        'https://www.booking.com/searchresults.html?ss=Nimes',\n",
    "        'https://www.booking.com/searchresults.html?ss=Aigues+Mortes',\n",
    "        'https://www.booking.com/searchresults.html?ss=Saintes+Maries+de+la+mer',\n",
    "        'https://www.booking.com/searchresults.html?ss=Collioure',\n",
    "        'https://www.booking.com/searchresults.html?ss=Carcassonne',\n",
    "        'https://www.booking.com/searchresults.html?ss=Foix',\n",
    "        'https://www.booking.com/searchresults.html?ss=Toulouse',\n",
    "        'https://www.booking.com/searchresults.html?ss=Montauban',\n",
    "        'https://www.booking.com/searchresults.html?ss=Biarritz',\n",
    "        'https://www.booking.com/searchresults.html?ss=Bayonne',\n",
    "        'https://www.booking.com/searchresults.html?ss=La+Rochelle'\n",
    "    ]\n",
    "    # Configuration pour simuler un navigateur et gérer la fréquence des requêtes\n",
    "    custom_settings = { \n",
    "        'USER_AGENT': 'Mozilla/5.0 (Windows NT 10.0; Win64; x64) AppleWebKit/537.36 (KHTML, like Gecko) Chrome/97.0.4692.99 Safari/537.36',\n",
    "        'AUTOTHROTTLE_ENABLED': True,\n",
    "        'HTTPCACHE_ENABLED': True\n",
    "    }\n",
    "    # Parse les données de chaque hôtel trouvées dans les résultats de recherche\n",
    "    def parse(self, response):\n",
    "        city_name = response.url.split('ss=')[-1].replace('+', ' ')\n",
    "\n",
    "        for hotel in response.xpath(\"//div[@data-testid='property-card']\"):\n",
    "            hotel_name = hotel.xpath(\".//div[@data-testid='title']/text()\").get()\n",
    "            hotel_url = hotel.xpath(\".//a[@data-testid='title-link']/@href\").get()\n",
    "            hotel_score = hotel.xpath(\".//div[@data-testid='review-score']//div[@class='a3b8729ab1 d86cee9b25']/text()\").get()\n",
    "            hotel_description = hotel.xpath(\".//div[@class='abf093bdfe']/text()\").get()\n",
    "\n",
    "            full_hotel_url = response.urljoin(hotel_url) # Construit l'URL complète de la page de l'hôtel\n",
    "\n",
    "            latitude, longitude = get_lat_lon_from_booking(full_hotel_url)  # Obtient les coordonnées géographiques de l'hôtel\n",
    "\n",
    "            # Rend les données extraites disponibles pour le traitement ou la sauvegarde\n",
    "            yield {\n",
    "                'City': city_name,\n",
    "                'Hotel_Name': hotel_name,\n",
    "                'Hotel_URL': full_hotel_url,\n",
    "                'Score': hotel_score,\n",
    "                'Description': hotel_description,\n",
    "                'Latitude': latitude,\n",
    "                'Longitude': longitude,\n",
    "            }\n",
    "# Configuration et démarrage du processus de crawling\n",
    "process = CrawlerProcess(settings={\n",
    "    'USER_AGENT': 'Mozilla/5.0 (Windows NT 10.0; Win64; x64) Chrome/97.0.4692.99 Safari/537.36',\n",
    "    'FEEDS': {\n",
    "        'src/hotels.json': {'format': 'json'},\n",
    "    },\n",
    "})\n",
    "\n",
    "process.crawl(BookingSpider)\n",
    "process.start()"
   ]
  },
  {
   "cell_type": "markdown",
   "metadata": {},
   "source": [
    "Ici nous voyons comment nous trouvons les xpatch (capture code source à faire)"
   ]
  },
  {
   "cell_type": "markdown",
   "metadata": {},
   "source": [
    "Point de compréhesion technique : explication détaillée du code sur le fonctionnement du scraping\n",
    "\n",
    "1. Importations\n",
    "```python\n",
    "import os, re, requests, scrapy\n",
    "from scrapy.crawler import CrawlerProcess\n",
    "from bs4 import BeautifulSoup\n",
    "```\n",
    "- `os`: Gère les fichiers et chemins\n",
    "- `re`: Permet d'utiliser les expressions régulières pour chercher des motifs dans du texte\n",
    "- `requests`: Fait des requêtes web (comme un navigateur)\n",
    "- `scrapy`: Framework spécialisé pour extraire des données web\n",
    "- `BeautifulSoup`: Analyse et navigue dans le code HTML\n",
    "\n",
    "2. Fonction `get_lat_lon_from_booking`\n",
    "```python\n",
    "def get_lat_lon_from_booking(url):\n",
    "```\n",
    "Cette fonction extrait les coordonnées GPS d'un hôtel sur Booking.com :\n",
    "- Fait une requête à l'URL de l'hôtel\n",
    "- Cherche dans le code source les balises `<script>`\n",
    "- Utilise une expression régulière pour trouver latitude/longitude\n",
    "- Retourne ces coordonnées ou None si non trouvées\n",
    "\n",
    "3. Classe `BookingSpider`\n",
    "```python\n",
    "class BookingSpider(scrapy.Spider):\n",
    "```\n",
    "C'est le \"robot\" qui va parcourir Booking.com :\n",
    "- `name = 'booking'`: Identifiant du robot\n",
    "- `allowed_domains`: Limite le robot à booking.com\n",
    "- `start_urls`: Liste des pages à visiter (une par ville)\n",
    "- `custom_settings`: Configuration pour :\n",
    "  - Simuler un vrai navigateur\n",
    "  - Contrôler la vitesse des requêtes\n",
    "  - Mettre en cache les réponses\n",
    "\n",
    "4. Méthode `parse`\n",
    "```python\n",
    "def parse(self, response):\n",
    "```\n",
    "Traite chaque page d'hôtel :\n",
    "- Extrait le nom de la ville de l'URL\n",
    "- Pour chaque hôtel trouvé :\n",
    "  - Récupère nom, URL, score, description\n",
    "  - Obtient les coordonnées GPS\n",
    "  - Stocke toutes ces informations\n",
    "\n",
    "5. Configuration finale\n",
    "```python\n",
    "process = CrawlerProcess(settings={...})\n",
    "```\n",
    "- Configure le processus d'extraction\n",
    "- Définit le fichier de sortie (hotels.json)\n",
    "- Démarre le robot\n",
    "\n",
    "Cette partie du code est donc un \"robot\" automatisé qui :\n",
    "1. Visite Booking.com pour chaque ville\n",
    "2. Récupère les informations de chaque hôtel\n",
    "3. Enregistre tout dans un fichier JSON\n",
    "\n",
    "Il utilise des techniques avancées pour :\n",
    "- Éviter d'être bloqué par Booking.com\n",
    "- Gérer les erreurs\n",
    "- Formater proprement les données"
   ]
  },
  {
   "cell_type": "code",
   "execution_count": 53,
   "metadata": {},
   "outputs": [
    {
     "data": {
      "text/html": [
       "<div>\n",
       "<style scoped>\n",
       "    .dataframe tbody tr th:only-of-type {\n",
       "        vertical-align: middle;\n",
       "    }\n",
       "\n",
       "    .dataframe tbody tr th {\n",
       "        vertical-align: top;\n",
       "    }\n",
       "\n",
       "    .dataframe thead th {\n",
       "        text-align: right;\n",
       "    }\n",
       "</style>\n",
       "<table border=\"1\" class=\"dataframe\">\n",
       "  <thead>\n",
       "    <tr style=\"text-align: right;\">\n",
       "      <th></th>\n",
       "      <th>City</th>\n",
       "      <th>Hotel_Name</th>\n",
       "      <th>Hotel_URL</th>\n",
       "      <th>Score</th>\n",
       "      <th>Description</th>\n",
       "      <th>Latitude</th>\n",
       "      <th>Longitude</th>\n",
       "    </tr>\n",
       "  </thead>\n",
       "  <tbody>\n",
       "    <tr>\n",
       "      <th>0</th>\n",
       "      <td>Mont Saint Michel</td>\n",
       "      <td>Le Relais Saint Michel</td>\n",
       "      <td>https://www.booking.com/hotel/fr/le-relais-sai...</td>\n",
       "      <td>8.0</td>\n",
       "      <td>Le Relais Saint Michel is an hotel facing the ...</td>\n",
       "      <td>48.617587</td>\n",
       "      <td>-1.510396</td>\n",
       "    </tr>\n",
       "    <tr>\n",
       "      <th>1</th>\n",
       "      <td>St Malo</td>\n",
       "      <td>Hôtel Anne de Bretagne - Réouverture 2024 aprè...</td>\n",
       "      <td>https://www.booking.com/hotel/fr/anne-de-breta...</td>\n",
       "      <td>9.0</td>\n",
       "      <td>Hôtel Anne de Bretagne - Réouverture 2024 aprè...</td>\n",
       "      <td>48.650641</td>\n",
       "      <td>-2.024754</td>\n",
       "    </tr>\n",
       "    <tr>\n",
       "      <th>2</th>\n",
       "      <td>Mont Saint Michel</td>\n",
       "      <td>Hôtel Vert</td>\n",
       "      <td>https://www.booking.com/hotel/fr/vert.en-gb.ht...</td>\n",
       "      <td>8.0</td>\n",
       "      <td>Hotel Vert offers pastel-coloured rooms with a...</td>\n",
       "      <td>48.614700</td>\n",
       "      <td>-1.509617</td>\n",
       "    </tr>\n",
       "    <tr>\n",
       "      <th>3</th>\n",
       "      <td>St Malo</td>\n",
       "      <td>Le Plongeoir, intra-muros</td>\n",
       "      <td>https://www.booking.com/hotel/fr/le-pongeoir-i...</td>\n",
       "      <td>9.1</td>\n",
       "      <td>Managed by a private host</td>\n",
       "      <td>48.648725</td>\n",
       "      <td>-2.027573</td>\n",
       "    </tr>\n",
       "    <tr>\n",
       "      <th>4</th>\n",
       "      <td>Bayeux</td>\n",
       "      <td>B&amp;B Nathalie</td>\n",
       "      <td>https://www.booking.com/hotel/fr/imagine-bayeu...</td>\n",
       "      <td>9.5</td>\n",
       "      <td>Managed by a private host</td>\n",
       "      <td>49.276465</td>\n",
       "      <td>-0.706367</td>\n",
       "    </tr>\n",
       "  </tbody>\n",
       "</table>\n",
       "</div>"
      ],
      "text/plain": [
       "                City                                         Hotel_Name  \\\n",
       "0  Mont Saint Michel                             Le Relais Saint Michel   \n",
       "1            St Malo  Hôtel Anne de Bretagne - Réouverture 2024 aprè...   \n",
       "2  Mont Saint Michel                                         Hôtel Vert   \n",
       "3            St Malo                          Le Plongeoir, intra-muros   \n",
       "4             Bayeux                                       B&B Nathalie   \n",
       "\n",
       "                                           Hotel_URL  Score  \\\n",
       "0  https://www.booking.com/hotel/fr/le-relais-sai...    8.0   \n",
       "1  https://www.booking.com/hotel/fr/anne-de-breta...    9.0   \n",
       "2  https://www.booking.com/hotel/fr/vert.en-gb.ht...    8.0   \n",
       "3  https://www.booking.com/hotel/fr/le-pongeoir-i...    9.1   \n",
       "4  https://www.booking.com/hotel/fr/imagine-bayeu...    9.5   \n",
       "\n",
       "                                         Description   Latitude  Longitude  \n",
       "0  Le Relais Saint Michel is an hotel facing the ...  48.617587  -1.510396  \n",
       "1  Hôtel Anne de Bretagne - Réouverture 2024 aprè...  48.650641  -2.024754  \n",
       "2  Hotel Vert offers pastel-coloured rooms with a...  48.614700  -1.509617  \n",
       "3                          Managed by a private host  48.648725  -2.027573  \n",
       "4                          Managed by a private host  49.276465  -0.706367  "
      ]
     },
     "execution_count": 53,
     "metadata": {},
     "output_type": "execute_result"
    }
   ],
   "source": [
    "# transformation du fichier json en .csv\n",
    "hotels_df = pd.read_json('src/hotels.json')\n",
    "hotels_df.to_csv('src/hotels.csv', index=False)\n",
    "hotels_df.head()"
   ]
  },
  {
   "cell_type": "markdown",
   "metadata": {},
   "source": [
    "---"
   ]
  },
  {
   "cell_type": "markdown",
   "metadata": {},
   "source": [
    "# Charger les données dans un datalake"
   ]
  },
  {
   "cell_type": "markdown",
   "metadata": {},
   "source": [
    "---"
   ]
  },
  {
   "cell_type": "markdown",
   "metadata": {},
   "source": [
    "Nous avons maintenant 2 fichiers CSV contenant des prévisions météos pour les 5 projets jours sur 35 villes.\n",
    "Et une liste d'hotels par villes.\n",
    "Transférons ces fichiers dans mon bucket S3 dont j'ai défini le nom dans mon .env. Les crédentials AWS sont elle stocké dans un .secrets"
   ]
  },
  {
   "cell_type": "code",
   "execution_count": 4,
   "metadata": {},
   "outputs": [],
   "source": [
    "\n",
    "# Charger .env et .secrets pour des configurations générales\n",
    "load_dotenv(\".env\")\n",
    "load_dotenv(\".secrets\")\n",
    "\n",
    "# Accéder aux variables d'environnement\n",
    "BUCKET_NAME = os.getenv(\"S3_BUCKET\")\n",
    "AWS_KEY = os.getenv(\"AWS_ACCESS_KEY_ID\")\n",
    "AWS_SECRET = os.getenv(\"AWS_SECRET_ACCESS_KEY\")\n",
    "\n",
    "# Vérification des variables d'environnement\n",
    "if not BUCKET_NAME or not AWS_KEY or not AWS_SECRET:\n",
    "    raise ValueError(\"One or more environment variables are missing\")\n",
    "\n",
    "# Création du client S3\n",
    "s3 = boto3.client(\"s3\", \n",
    "                  aws_access_key_id=AWS_KEY, \n",
    "                  aws_secret_access_key=AWS_SECRET)\n",
    "\n",
    "# transférer les fichiers dans le bucket\n",
    "s3.upload_file(\"src/hotels.csv\", BUCKET_NAME, \"kayak_project/hotels.csv\")\n",
    "s3.upload_file(\"src/previsions_meteo.csv\", BUCKET_NAME, \"kayak_project/previsions_meteo.csv\")\n",
    "\n"
   ]
  },
  {
   "cell_type": "markdown",
   "metadata": {},
   "source": [
    "---"
   ]
  },
  {
   "cell_type": "markdown",
   "metadata": {},
   "source": [
    "## DATA WHAREHOUSE ET REQUETES SQL"
   ]
  },
  {
   "cell_type": "markdown",
   "metadata": {},
   "source": [
    "---"
   ]
  },
  {
   "cell_type": "markdown",
   "metadata": {},
   "source": [
    "Puisqu'il n'y a pas beaucoup de données, j'ai fait le choix de travailler sous NEONDB (postgresql serverless). Cela permet d'avoir une solution gratuite et pédagogique.\n",
    "L'url de la base postgres contenant les id et pass, est intégré dans le .secret\n",
    "Il faut maintenant créer les 2 tables \"hotels\" et \"previsions_meteo\" avant de pouvoir y transférer les infos de mes .CSV"
   ]
  },
  {
   "cell_type": "code",
   "execution_count": 5,
   "metadata": {},
   "outputs": [
    {
     "name": "stdout",
     "output_type": "stream",
     "text": [
      "Les tables ont été créées avec succès!\n"
     ]
    }
   ],
   "source": [
    "# Charger les variables d'environnement\n",
    "load_dotenv('.secrets')\n",
    "\n",
    "# Récupérer l'URL de la base de données depuis les variables d'environnement\n",
    "DATABASE_URL = os.getenv('NEON_DATABASE_URL')\n",
    "\n",
    "# Créer le moteur de connexion\n",
    "engine = create_engine(DATABASE_URL)\n",
    "\n",
    "# Définition des requêtes SQL de création des tables\n",
    "create_hotels_table = \"\"\"\n",
    "CREATE TABLE IF NOT EXISTS hotels (\n",
    "    id SERIAL PRIMARY KEY,\n",
    "    \"City\" VARCHAR(100),\n",
    "    \"Hotel_Name\" VARCHAR(200),\n",
    "    \"Hotel_URL\" TEXT,\n",
    "    \"Score\" DECIMAL(3,1),\n",
    "    \"Description\" TEXT,\n",
    "    \"Latitude\" DECIMAL(10,8),\n",
    "    \"Longitude\" DECIMAL(11,8)\n",
    ");\n",
    "\"\"\"\n",
    "\n",
    "create_meteo_table = \"\"\"\n",
    "CREATE TABLE IF NOT EXISTS previsions_meteo (\n",
    "    id SERIAL PRIMARY KEY,\n",
    "    \"City\" VARCHAR(100),\n",
    "    \"Latitude\" DECIMAL(10,8),\n",
    "    \"Longitude\" DECIMAL(11,8),\n",
    "    \"Temperature_Jour_1\" DECIMAL(4,1),\n",
    "    \"Humidite_Jour_1\" INTEGER,\n",
    "    \"Vitesse_Vent_Jour_1\" DECIMAL(5,2),\n",
    "    \"Precipitation_Jour_1\" DECIMAL(5,2),\n",
    "    \"Temperature_Jour_2\" DECIMAL(4,1),\n",
    "    \"Humidite_Jour_2\" INTEGER,\n",
    "    \"Vitesse_Vent_Jour_2\" DECIMAL(5,2),\n",
    "    \"Precipitation_Jour_2\" DECIMAL(5,2),\n",
    "    \"Temperature_Jour_3\" DECIMAL(4,1),\n",
    "    \"Humidite_Jour_3\" INTEGER,\n",
    "    \"Vitesse_Vent_Jour_3\" DECIMAL(5,2),\n",
    "    \"Precipitation_Jour_3\" DECIMAL(5,2),\n",
    "    \"Temperature_Jour_4\" DECIMAL(4,1),\n",
    "    \"Humidite_Jour_4\" INTEGER,\n",
    "    \"Vitesse_Vent_Jour_4\" DECIMAL(5,2),\n",
    "    \"Precipitation_Jour_4\" DECIMAL(5,2),\n",
    "    \"Temperature_Jour_5\" DECIMAL(4,1),\n",
    "    \"Humidite_Jour_5\" INTEGER,\n",
    "    \"Vitesse_Vent_Jour_5\" DECIMAL(5,2),\n",
    "    \"Precipitation_Jour_5\" DECIMAL(5,2)\n",
    ");\n",
    "\"\"\"\n",
    "\n",
    "# Exécution des requêtes\n",
    "with engine.connect() as conn:\n",
    "    conn.execute(text(create_hotels_table))\n",
    "    conn.execute(text(create_meteo_table))\n",
    "    conn.commit()\n",
    "\n",
    "print(\"Les tables ont été créées avec succès!\")"
   ]
  },
  {
   "cell_type": "markdown",
   "metadata": {},
   "source": [
    "Récupérons la dernière version des fichiers pour mettre à jour les 2 tables :"
   ]
  },
  {
   "cell_type": "code",
   "execution_count": 56,
   "metadata": {},
   "outputs": [],
   "source": [
    "# récupérer les fichiers sur le bucket\n",
    "s3.download_file(BUCKET_NAME, \"kayak_project/hotels.csv\", \"src/hotels.csv\")\n",
    "s3.download_file(BUCKET_NAME, \"kayak_project/previsions_meteo.csv\", \"src/previsions_meteo.csv\")\n"
   ]
  },
  {
   "cell_type": "markdown",
   "metadata": {},
   "source": [
    "Finissons par transférer les infos des .csv dans nos deux tables :"
   ]
  },
  {
   "cell_type": "code",
   "execution_count": 2,
   "metadata": {},
   "outputs": [
    {
     "name": "stdout",
     "output_type": "stream",
     "text": [
      "Les données ont été chargées avec succès!\n",
      "Nombre d'hôtels chargés : 876\n",
      "Nombre de prévisions météo chargées : 35\n"
     ]
    }
   ],
   "source": [
    "# Charger les variables d'environnement depuis .secrets\n",
    "load_dotenv('.secrets')\n",
    "\n",
    "# Récupérer l'URL de la base de données\n",
    "DATABASE_URL = os.getenv('NEON_DATABASE_URL')\n",
    "engine = create_engine(DATABASE_URL)\n",
    "\n",
    "try:\n",
    "    # Lire les fichiers CSV locaux\n",
    "    hotels_df = pd.read_csv('src/hotels.csv')\n",
    "    meteo_df = pd.read_csv('src/previsions_meteo.csv')\n",
    "\n",
    "    # Créer une nouvelle connexion pour les opérations to_sql\n",
    "    with engine.connect() as conn:\n",
    "        # Démarrer une nouvelle transaction\n",
    "        with conn.begin():\n",
    "            # Charger les données dans la base de données\n",
    "            hotels_df.to_sql('hotels', conn, if_exists='replace', index=False)\n",
    "            meteo_df.to_sql('previsions_meteo', conn, if_exists='replace', index=False)\n",
    "        \n",
    "    print(\"Les données ont été chargées avec succès!\")\n",
    "\n",
    "except Exception as e:\n",
    "    print(f\"Une erreur s'est produite : {e}\")\n",
    "    # La transaction sera automatiquement annulée en cas d'erreur\n",
    "\n",
    "finally:\n",
    "    # Fermer proprement la connexion\n",
    "    engine.dispose()\n",
    "\n",
    "# Vérifier le nombre de lignes chargées\n",
    "with engine.connect() as conn:\n",
    "    result_hotels = conn.execute(text(\"SELECT COUNT(*) FROM hotels\")).fetchone()\n",
    "    result_meteo = conn.execute(text(\"SELECT COUNT(*) FROM previsions_meteo\")).fetchone()\n",
    "    \n",
    "print(f\"Nombre d'hôtels chargés : {result_hotels[0]}\")\n",
    "print(f\"Nombre de prévisions météo chargées : {result_meteo[0]}\")"
   ]
  },
  {
   "cell_type": "markdown",
   "metadata": {},
   "source": [
    "Avant la phase de visualisation, une petite requête :"
   ]
  },
  {
   "cell_type": "code",
   "execution_count": 3,
   "metadata": {},
   "outputs": [
    {
     "name": "stdout",
     "output_type": "stream",
     "text": [
      "                 Hotel_Name  Score\n",
      "0         Les Chênes Blancs   10.0\n",
      "1                Coquelicot    9.7\n",
      "2  Maison de village type 2    9.5\n"
     ]
    }
   ],
   "source": [
    "# Requête SQL pour récupérer les 3 hotels les mieux notés dans les gorges du Verdon\n",
    "query = \"\"\"\n",
    "SELECT \"Hotel_Name\", \"Score\"\n",
    "FROM hotels\n",
    "WHERE \"City\" = 'Gorges du Verdon'\n",
    "ORDER BY \"Score\" DESC\n",
    "LIMIT 3\n",
    "\"\"\"\n",
    "\n",
    "# Exécuter la requête\n",
    "with engine.connect() as conn:\n",
    "    result = pd.read_sql_query(query, conn)\n",
    "\n",
    "# Afficher les résultats\n",
    "print(result)"
   ]
  },
  {
   "cell_type": "markdown",
   "metadata": {},
   "source": [
    "---"
   ]
  },
  {
   "cell_type": "markdown",
   "metadata": {},
   "source": [
    "## visualisation ##"
   ]
  },
  {
   "cell_type": "markdown",
   "metadata": {},
   "source": [
    "---"
   ]
  },
  {
   "cell_type": "markdown",
   "metadata": {},
   "source": [
    "On nous demande de pouvoir visualisser les 5 meilleurs destinations. Puis les 20 hotels de ces 5 destinations.\n",
    "J'ai créé plusieurs critères météos dans l'idée de pouvoir laisser le choix à l'utilisateur final en fonction de la demande dui client. Mais dans un premier temps je vais me concentrer sur une carte simple \"des 5 destinations avec la moyenne de température la plus chaudes prévu dans les 5 prochains jours\"."
   ]
  },
  {
   "cell_type": "code",
   "execution_count": 12,
   "metadata": {},
   "outputs": [
    {
     "name": "stdout",
     "output_type": "stream",
     "text": [
      "Villes les moins venteuses:\n",
      "                           City  vitesse_moyenne_vent   Latitude  Longitude\n",
      "0                          Foix                 0.796  42.963900   1.605381\n",
      "1  Chateau du Haut Koenigsbourg                 0.902  48.249523   7.345492\n",
      "2               Aix en Provence                 0.976  43.529842   5.447474\n",
      "3                        Colmar                 1.256  48.077752   7.357964\n",
      "4                     Eguisheim                 1.308  48.044797   7.307962\n",
      "Villes les plus chaudes:\n",
      "                City  temperature_moyenne   Latitude  Longitude\n",
      "0            Bayonne               12.562  43.494514  -1.473666\n",
      "1           Biarritz               12.476  43.471144  -1.552727\n",
      "2          Marseille               11.872  43.296174   5.369953\n",
      "3          Collioure               11.796  42.525050   3.083155\n",
      "4  Mont Saint Michel               11.440  48.635954  -1.511460\n",
      "Villes les plus froides:\n",
      "                           City  temperature_moyenne   Latitude  Longitude\n",
      "0  Chateau du Haut Koenigsbourg                0.598  48.249523   7.345492\n",
      "1                        Annecy                2.110  45.899235   6.128885\n",
      "2                     Eguisheim                2.820  48.044797   7.307962\n",
      "3                        Colmar                3.120  48.077752   7.357964\n",
      "4                      Besancon                3.364  47.238022   6.024362\n",
      "Villes les moins pluvieuses:\n",
      "                City  precipitation_totale   Latitude  Longitude\n",
      "0  Mont Saint Michel                   0.0  48.635954  -1.511460\n",
      "1             Bayeux                   0.0  49.276462  -0.702474\n",
      "2           Le Havre                   0.0  49.493898   0.107973\n",
      "3              Rouen                   0.0  49.440459   1.093966\n",
      "4              Paris                   0.0  48.858890   2.320041\n"
     ]
    }
   ],
   "source": [
    "# requêtes simples pour visualiser juste les villes\n",
    "\n",
    "# initier les dataframes\n",
    "hotels_df = pd.read_csv('src/hotels.csv')\n",
    "meteo_df = pd.read_csv('src/previsions_meteo.csv')\n",
    "\n",
    "# Les 5 villes les moins venteuses (basé sur la moyenne des vents à 15h sur 5 jours)\n",
    "query_meteo_vent = \"\"\"\n",
    "SELECT \n",
    "   \"City\",\n",
    "   (\"Vitesse_Vent_Jour_1\" + \"Vitesse_Vent_Jour_2\" + \"Vitesse_Vent_Jour_3\" + \n",
    "    \"Vitesse_Vent_Jour_4\" + \"Vitesse_Vent_Jour_5\")/5 as vitesse_moyenne_vent,\n",
    "   \"Latitude\", \"Longitude\"\n",
    "FROM previsions_meteo\n",
    "ORDER BY vitesse_moyenne_vent ASC\n",
    "LIMIT 5;\n",
    "\"\"\"\n",
    "\n",
    "# Les 5 villes les plus chaudes (basé sur la moyenne des températures)\n",
    "query_meteo_chaud = \"\"\"\n",
    "SELECT \n",
    "   \"City\",\n",
    "   (\"Temperature_Jour_1\" + \"Temperature_Jour_2\" + \"Temperature_Jour_3\" + \n",
    "    \"Temperature_Jour_4\" + \"Temperature_Jour_5\")/5 as temperature_moyenne,\n",
    "   \"Latitude\", \"Longitude\"\n",
    "FROM previsions_meteo\n",
    "ORDER BY temperature_moyenne DESC\n",
    "LIMIT 5;\n",
    "\"\"\"\n",
    "\n",
    "# Les 5 villes les plus froides (basé sur la moyenne des températures\n",
    "query_meteo_froid = \"\"\"\n",
    "SELECT \n",
    "   \"City\",\n",
    "   (\"Temperature_Jour_1\" + \"Temperature_Jour_2\" + \"Temperature_Jour_3\" + \n",
    "    \"Temperature_Jour_4\" + \"Temperature_Jour_5\")/5 as temperature_moyenne,\n",
    "   \"Latitude\", \"Longitude\"\n",
    "FROM previsions_meteo\n",
    "ORDER BY temperature_moyenne ASC\n",
    "LIMIT 5;\n",
    "\"\"\"\n",
    "\n",
    "# Les 5 villes ou il pleuvra le moins (basé sur la somme des précipitations ensigés sur 5 jours)\n",
    "query_meteo_sec = \"\"\"\n",
    "SELECT \n",
    "   \"City\",\n",
    "   (\"Precipitation_Jour_1\" + \"Precipitation_Jour_2\" + \"Precipitation_Jour_3\" + \n",
    "    \"Precipitation_Jour_4\" + \"Precipitation_Jour_5\") as precipitation_totale,\n",
    "   \"Latitude\", \"Longitude\"\n",
    "FROM previsions_meteo\n",
    "ORDER BY precipitation_totale ASC\n",
    "LIMIT 5;\n",
    "\"\"\"\n",
    "\n",
    "# Exécution des requêtes\n",
    "with engine.connect() as conn:\n",
    "    villes_vent = pd.read_sql_query(query_meteo_vent, conn)\n",
    "    villes_chaudes = pd.read_sql_query(query_meteo_chaud, conn)\n",
    "    villes_froides = pd.read_sql_query(query_meteo_froid, conn)\n",
    "    villes_seches = pd.read_sql_query(query_meteo_sec, conn)\n",
    "\n",
    "print(\"Villes les moins venteuses:\")\n",
    "print(villes_vent)\n",
    "print(\"Villes les plus chaudes:\")\n",
    "print(villes_chaudes)\n",
    "print(\"Villes les plus froides:\")\n",
    "print(villes_froides)\n",
    "print(\"Villes les moins pluvieuses:\")\n",
    "print(villes_seches)"
   ]
  },
  {
   "cell_type": "code",
   "execution_count": 13,
   "metadata": {},
   "outputs": [
    {
     "data": {
      "application/vnd.plotly.v1+json": {
       "config": {
        "plotlyServerURL": "https://plot.ly"
       },
       "data": [
        {
         "customdata": [
          [
           12.562
          ],
          [
           12.475999999999999
          ],
          [
           11.872000000000002
          ],
          [
           11.796
          ],
          [
           11.440000000000001
          ]
         ],
         "hovertemplate": "<b>%{hovertext}</b><br><br>Latitude=%{lat}<br>Longitude=%{lon}<br>temperature_moyenne=%{marker.color}<extra></extra>",
         "hovertext": [
          "Bayonne",
          "Biarritz",
          "Marseille",
          "Collioure",
          "Mont Saint Michel"
         ],
         "lat": [
          43.4945144,
          43.47114375,
          43.2961743,
          42.52505,
          48.6359541
         ],
         "legendgroup": "",
         "lon": [
          -1.4736657,
          -1.552726590666314,
          5.3699525,
          3.0831554,
          -1.511459954959514
         ],
         "marker": {
          "color": [
           12.562,
           12.475999999999999,
           11.872000000000002,
           11.796,
           11.440000000000001
          ],
          "coloraxis": "coloraxis"
         },
         "mode": "markers",
         "name": "",
         "showlegend": false,
         "subplot": "mapbox",
         "type": "scattermapbox"
        }
       ],
       "layout": {
        "coloraxis": {
         "colorbar": {
          "title": {
           "text": "temperature_moyenne"
          }
         },
         "colorscale": [
          [
           0,
           "blue"
          ],
          [
           0.5,
           "purple"
          ],
          [
           1,
           "red"
          ]
         ]
        },
        "height": 300,
        "legend": {
         "tracegroupgap": 0
        },
        "mapbox": {
         "center": {
          "lat": 44.28456730999999,
          "lon": 0.7830511308748345
         },
         "domain": {
          "x": [
           0,
           1
          ],
          "y": [
           0,
           1
          ]
         },
         "style": "open-street-map",
         "zoom": 4
        },
        "margin": {
         "b": 0,
         "l": 0,
         "r": 0,
         "t": 0
        },
        "template": {
         "data": {
          "bar": [
           {
            "error_x": {
             "color": "#2a3f5f"
            },
            "error_y": {
             "color": "#2a3f5f"
            },
            "marker": {
             "line": {
              "color": "#E5ECF6",
              "width": 0.5
             },
             "pattern": {
              "fillmode": "overlay",
              "size": 10,
              "solidity": 0.2
             }
            },
            "type": "bar"
           }
          ],
          "barpolar": [
           {
            "marker": {
             "line": {
              "color": "#E5ECF6",
              "width": 0.5
             },
             "pattern": {
              "fillmode": "overlay",
              "size": 10,
              "solidity": 0.2
             }
            },
            "type": "barpolar"
           }
          ],
          "carpet": [
           {
            "aaxis": {
             "endlinecolor": "#2a3f5f",
             "gridcolor": "white",
             "linecolor": "white",
             "minorgridcolor": "white",
             "startlinecolor": "#2a3f5f"
            },
            "baxis": {
             "endlinecolor": "#2a3f5f",
             "gridcolor": "white",
             "linecolor": "white",
             "minorgridcolor": "white",
             "startlinecolor": "#2a3f5f"
            },
            "type": "carpet"
           }
          ],
          "choropleth": [
           {
            "colorbar": {
             "outlinewidth": 0,
             "ticks": ""
            },
            "type": "choropleth"
           }
          ],
          "contour": [
           {
            "colorbar": {
             "outlinewidth": 0,
             "ticks": ""
            },
            "colorscale": [
             [
              0,
              "#0d0887"
             ],
             [
              0.1111111111111111,
              "#46039f"
             ],
             [
              0.2222222222222222,
              "#7201a8"
             ],
             [
              0.3333333333333333,
              "#9c179e"
             ],
             [
              0.4444444444444444,
              "#bd3786"
             ],
             [
              0.5555555555555556,
              "#d8576b"
             ],
             [
              0.6666666666666666,
              "#ed7953"
             ],
             [
              0.7777777777777778,
              "#fb9f3a"
             ],
             [
              0.8888888888888888,
              "#fdca26"
             ],
             [
              1,
              "#f0f921"
             ]
            ],
            "type": "contour"
           }
          ],
          "contourcarpet": [
           {
            "colorbar": {
             "outlinewidth": 0,
             "ticks": ""
            },
            "type": "contourcarpet"
           }
          ],
          "heatmap": [
           {
            "colorbar": {
             "outlinewidth": 0,
             "ticks": ""
            },
            "colorscale": [
             [
              0,
              "#0d0887"
             ],
             [
              0.1111111111111111,
              "#46039f"
             ],
             [
              0.2222222222222222,
              "#7201a8"
             ],
             [
              0.3333333333333333,
              "#9c179e"
             ],
             [
              0.4444444444444444,
              "#bd3786"
             ],
             [
              0.5555555555555556,
              "#d8576b"
             ],
             [
              0.6666666666666666,
              "#ed7953"
             ],
             [
              0.7777777777777778,
              "#fb9f3a"
             ],
             [
              0.8888888888888888,
              "#fdca26"
             ],
             [
              1,
              "#f0f921"
             ]
            ],
            "type": "heatmap"
           }
          ],
          "heatmapgl": [
           {
            "colorbar": {
             "outlinewidth": 0,
             "ticks": ""
            },
            "colorscale": [
             [
              0,
              "#0d0887"
             ],
             [
              0.1111111111111111,
              "#46039f"
             ],
             [
              0.2222222222222222,
              "#7201a8"
             ],
             [
              0.3333333333333333,
              "#9c179e"
             ],
             [
              0.4444444444444444,
              "#bd3786"
             ],
             [
              0.5555555555555556,
              "#d8576b"
             ],
             [
              0.6666666666666666,
              "#ed7953"
             ],
             [
              0.7777777777777778,
              "#fb9f3a"
             ],
             [
              0.8888888888888888,
              "#fdca26"
             ],
             [
              1,
              "#f0f921"
             ]
            ],
            "type": "heatmapgl"
           }
          ],
          "histogram": [
           {
            "marker": {
             "pattern": {
              "fillmode": "overlay",
              "size": 10,
              "solidity": 0.2
             }
            },
            "type": "histogram"
           }
          ],
          "histogram2d": [
           {
            "colorbar": {
             "outlinewidth": 0,
             "ticks": ""
            },
            "colorscale": [
             [
              0,
              "#0d0887"
             ],
             [
              0.1111111111111111,
              "#46039f"
             ],
             [
              0.2222222222222222,
              "#7201a8"
             ],
             [
              0.3333333333333333,
              "#9c179e"
             ],
             [
              0.4444444444444444,
              "#bd3786"
             ],
             [
              0.5555555555555556,
              "#d8576b"
             ],
             [
              0.6666666666666666,
              "#ed7953"
             ],
             [
              0.7777777777777778,
              "#fb9f3a"
             ],
             [
              0.8888888888888888,
              "#fdca26"
             ],
             [
              1,
              "#f0f921"
             ]
            ],
            "type": "histogram2d"
           }
          ],
          "histogram2dcontour": [
           {
            "colorbar": {
             "outlinewidth": 0,
             "ticks": ""
            },
            "colorscale": [
             [
              0,
              "#0d0887"
             ],
             [
              0.1111111111111111,
              "#46039f"
             ],
             [
              0.2222222222222222,
              "#7201a8"
             ],
             [
              0.3333333333333333,
              "#9c179e"
             ],
             [
              0.4444444444444444,
              "#bd3786"
             ],
             [
              0.5555555555555556,
              "#d8576b"
             ],
             [
              0.6666666666666666,
              "#ed7953"
             ],
             [
              0.7777777777777778,
              "#fb9f3a"
             ],
             [
              0.8888888888888888,
              "#fdca26"
             ],
             [
              1,
              "#f0f921"
             ]
            ],
            "type": "histogram2dcontour"
           }
          ],
          "mesh3d": [
           {
            "colorbar": {
             "outlinewidth": 0,
             "ticks": ""
            },
            "type": "mesh3d"
           }
          ],
          "parcoords": [
           {
            "line": {
             "colorbar": {
              "outlinewidth": 0,
              "ticks": ""
             }
            },
            "type": "parcoords"
           }
          ],
          "pie": [
           {
            "automargin": true,
            "type": "pie"
           }
          ],
          "scatter": [
           {
            "fillpattern": {
             "fillmode": "overlay",
             "size": 10,
             "solidity": 0.2
            },
            "type": "scatter"
           }
          ],
          "scatter3d": [
           {
            "line": {
             "colorbar": {
              "outlinewidth": 0,
              "ticks": ""
             }
            },
            "marker": {
             "colorbar": {
              "outlinewidth": 0,
              "ticks": ""
             }
            },
            "type": "scatter3d"
           }
          ],
          "scattercarpet": [
           {
            "marker": {
             "colorbar": {
              "outlinewidth": 0,
              "ticks": ""
             }
            },
            "type": "scattercarpet"
           }
          ],
          "scattergeo": [
           {
            "marker": {
             "colorbar": {
              "outlinewidth": 0,
              "ticks": ""
             }
            },
            "type": "scattergeo"
           }
          ],
          "scattergl": [
           {
            "marker": {
             "colorbar": {
              "outlinewidth": 0,
              "ticks": ""
             }
            },
            "type": "scattergl"
           }
          ],
          "scattermapbox": [
           {
            "marker": {
             "colorbar": {
              "outlinewidth": 0,
              "ticks": ""
             }
            },
            "type": "scattermapbox"
           }
          ],
          "scatterpolar": [
           {
            "marker": {
             "colorbar": {
              "outlinewidth": 0,
              "ticks": ""
             }
            },
            "type": "scatterpolar"
           }
          ],
          "scatterpolargl": [
           {
            "marker": {
             "colorbar": {
              "outlinewidth": 0,
              "ticks": ""
             }
            },
            "type": "scatterpolargl"
           }
          ],
          "scatterternary": [
           {
            "marker": {
             "colorbar": {
              "outlinewidth": 0,
              "ticks": ""
             }
            },
            "type": "scatterternary"
           }
          ],
          "surface": [
           {
            "colorbar": {
             "outlinewidth": 0,
             "ticks": ""
            },
            "colorscale": [
             [
              0,
              "#0d0887"
             ],
             [
              0.1111111111111111,
              "#46039f"
             ],
             [
              0.2222222222222222,
              "#7201a8"
             ],
             [
              0.3333333333333333,
              "#9c179e"
             ],
             [
              0.4444444444444444,
              "#bd3786"
             ],
             [
              0.5555555555555556,
              "#d8576b"
             ],
             [
              0.6666666666666666,
              "#ed7953"
             ],
             [
              0.7777777777777778,
              "#fb9f3a"
             ],
             [
              0.8888888888888888,
              "#fdca26"
             ],
             [
              1,
              "#f0f921"
             ]
            ],
            "type": "surface"
           }
          ],
          "table": [
           {
            "cells": {
             "fill": {
              "color": "#EBF0F8"
             },
             "line": {
              "color": "white"
             }
            },
            "header": {
             "fill": {
              "color": "#C8D4E3"
             },
             "line": {
              "color": "white"
             }
            },
            "type": "table"
           }
          ]
         },
         "layout": {
          "annotationdefaults": {
           "arrowcolor": "#2a3f5f",
           "arrowhead": 0,
           "arrowwidth": 1
          },
          "autotypenumbers": "strict",
          "coloraxis": {
           "colorbar": {
            "outlinewidth": 0,
            "ticks": ""
           }
          },
          "colorscale": {
           "diverging": [
            [
             0,
             "#8e0152"
            ],
            [
             0.1,
             "#c51b7d"
            ],
            [
             0.2,
             "#de77ae"
            ],
            [
             0.3,
             "#f1b6da"
            ],
            [
             0.4,
             "#fde0ef"
            ],
            [
             0.5,
             "#f7f7f7"
            ],
            [
             0.6,
             "#e6f5d0"
            ],
            [
             0.7,
             "#b8e186"
            ],
            [
             0.8,
             "#7fbc41"
            ],
            [
             0.9,
             "#4d9221"
            ],
            [
             1,
             "#276419"
            ]
           ],
           "sequential": [
            [
             0,
             "#0d0887"
            ],
            [
             0.1111111111111111,
             "#46039f"
            ],
            [
             0.2222222222222222,
             "#7201a8"
            ],
            [
             0.3333333333333333,
             "#9c179e"
            ],
            [
             0.4444444444444444,
             "#bd3786"
            ],
            [
             0.5555555555555556,
             "#d8576b"
            ],
            [
             0.6666666666666666,
             "#ed7953"
            ],
            [
             0.7777777777777778,
             "#fb9f3a"
            ],
            [
             0.8888888888888888,
             "#fdca26"
            ],
            [
             1,
             "#f0f921"
            ]
           ],
           "sequentialminus": [
            [
             0,
             "#0d0887"
            ],
            [
             0.1111111111111111,
             "#46039f"
            ],
            [
             0.2222222222222222,
             "#7201a8"
            ],
            [
             0.3333333333333333,
             "#9c179e"
            ],
            [
             0.4444444444444444,
             "#bd3786"
            ],
            [
             0.5555555555555556,
             "#d8576b"
            ],
            [
             0.6666666666666666,
             "#ed7953"
            ],
            [
             0.7777777777777778,
             "#fb9f3a"
            ],
            [
             0.8888888888888888,
             "#fdca26"
            ],
            [
             1,
             "#f0f921"
            ]
           ]
          },
          "colorway": [
           "#636efa",
           "#EF553B",
           "#00cc96",
           "#ab63fa",
           "#FFA15A",
           "#19d3f3",
           "#FF6692",
           "#B6E880",
           "#FF97FF",
           "#FECB52"
          ],
          "font": {
           "color": "#2a3f5f"
          },
          "geo": {
           "bgcolor": "white",
           "lakecolor": "white",
           "landcolor": "#E5ECF6",
           "showlakes": true,
           "showland": true,
           "subunitcolor": "white"
          },
          "hoverlabel": {
           "align": "left"
          },
          "hovermode": "closest",
          "mapbox": {
           "style": "light"
          },
          "paper_bgcolor": "white",
          "plot_bgcolor": "#E5ECF6",
          "polar": {
           "angularaxis": {
            "gridcolor": "white",
            "linecolor": "white",
            "ticks": ""
           },
           "bgcolor": "#E5ECF6",
           "radialaxis": {
            "gridcolor": "white",
            "linecolor": "white",
            "ticks": ""
           }
          },
          "scene": {
           "xaxis": {
            "backgroundcolor": "#E5ECF6",
            "gridcolor": "white",
            "gridwidth": 2,
            "linecolor": "white",
            "showbackground": true,
            "ticks": "",
            "zerolinecolor": "white"
           },
           "yaxis": {
            "backgroundcolor": "#E5ECF6",
            "gridcolor": "white",
            "gridwidth": 2,
            "linecolor": "white",
            "showbackground": true,
            "ticks": "",
            "zerolinecolor": "white"
           },
           "zaxis": {
            "backgroundcolor": "#E5ECF6",
            "gridcolor": "white",
            "gridwidth": 2,
            "linecolor": "white",
            "showbackground": true,
            "ticks": "",
            "zerolinecolor": "white"
           }
          },
          "shapedefaults": {
           "line": {
            "color": "#2a3f5f"
           }
          },
          "ternary": {
           "aaxis": {
            "gridcolor": "white",
            "linecolor": "white",
            "ticks": ""
           },
           "baxis": {
            "gridcolor": "white",
            "linecolor": "white",
            "ticks": ""
           },
           "bgcolor": "#E5ECF6",
           "caxis": {
            "gridcolor": "white",
            "linecolor": "white",
            "ticks": ""
           }
          },
          "title": {
           "x": 0.05
          },
          "xaxis": {
           "automargin": true,
           "gridcolor": "white",
           "linecolor": "white",
           "ticks": "",
           "title": {
            "standoff": 15
           },
           "zerolinecolor": "white",
           "zerolinewidth": 2
          },
          "yaxis": {
           "automargin": true,
           "gridcolor": "white",
           "linecolor": "white",
           "ticks": "",
           "title": {
            "standoff": 15
           },
           "zerolinecolor": "white",
           "zerolinewidth": 2
          }
         }
        }
       }
      }
     },
     "metadata": {},
     "output_type": "display_data"
    }
   ],
   "source": [
    "# visualisation simple\n",
    "fig = px.scatter_mapbox(villes_chaudes, lat=\"Latitude\", lon=\"Longitude\", hover_name=\"City\", \n",
    "                        hover_data=[\"temperature_moyenne\"],\n",
    "                        color=\"temperature_moyenne\", color_continuous_scale=[\"blue\", \"purple\", \"red\"], \n",
    "                        zoom=4, height=300)\n",
    "\n",
    "fig.update_layout(mapbox_style=\"open-street-map\")\n",
    "fig.update_layout(margin={\"r\":0,\"t\":0,\"l\":0,\"b\":0})\n",
    "fig.show()"
   ]
  },
  {
   "cell_type": "markdown",
   "metadata": {},
   "source": [
    "Travaillons la même carte en rajoutant les 20 meilleurs hotels par ville."
   ]
  },
  {
   "cell_type": "markdown",
   "metadata": {},
   "source": [
    "### Explication de la requête SQL\n",
    "\n",
    "La requête SQL suivante est utilisée pour obtenir les 20 meilleurs hôtels dans les 5 villes les moins venteuses. Elle utilise deux tables : `previsions_meteo` et `hotels`.\n",
    "\n",
    "La clause WITH en SQL, également connue sous le nom de Common Table Expression (CTE), permet de définir des sous-requêtes temporaires qui peuvent être référencées dans la requête principale. Cela ne signifie pas nécessairement que les données proviennent de deux tables, mais plutôt que la requête utilise des sous-requêtes pour structurer et organiser les données avant de les utiliser dans la requête principale.\n",
    "\n",
    "Ici, la requête utilise deux CTEs pour structurer les données avant de les sélectionner dans la requête principale.\n",
    "\n",
    "### Structure de la requête\n",
    "\n",
    "La requête est structurée en deux parties principales, chacune définie dans une clause WITH (Common Table Expression, CTE), suivie d'une sélection finale :\n",
    "\n",
    "VillesMoinsVenteuses : Cette CTE sélectionne les 5 villes avec la vitesse moyenne du vent la plus basse.\n",
    "TopHotels : Cette CTE sélectionne les meilleurs hôtels dans les villes identifiées par VillesMoinsVenteuses.\n",
    "\n",
    "L'alias h est utilisé pour référencer la table hotels dans la sous-requête TopHotels.\n",
    "L'alias v est utilisé pour référencer la CTE VillesMoinsVenteuses dans la sous-requête TopHotels.\n",
    "\n"
   ]
  },
  {
   "cell_type": "code",
   "execution_count": null,
   "metadata": {},
   "outputs": [
    {
     "name": "stdout",
     "output_type": "stream",
     "text": [
      "Hôtels dans les villes les moins venteuses:\n",
      "         City  vitesse_moyenne_vent  \\\n",
      "0        Foix                 0.796   \n",
      "1        Foix                 0.796   \n",
      "2        Foix                 0.796   \n",
      "3        Foix                 0.796   \n",
      "4        Foix                 0.796   \n",
      "..        ...                   ...   \n",
      "95  Eguisheim                 1.308   \n",
      "96  Eguisheim                 1.308   \n",
      "97  Eguisheim                 1.308   \n",
      "98  Eguisheim                 1.308   \n",
      "99  Eguisheim                 1.308   \n",
      "\n",
      "                                           Hotel_Name  Score  \\\n",
      "0   cocoon 52 m2 new, beautiful view castle and mo...    9.3   \n",
      "1   Studio Le Flore - Petit déjeuner inclus 1ère n...    9.3   \n",
      "2                                   Un second souffle    9.1   \n",
      "3                              l'Arche des Chapeliers    9.1   \n",
      "4   Lit King Size Trés Cosy Hyper Centre de Foix C...    9.0   \n",
      "..                                                ...    ...   \n",
      "95                      Hotel Colmar Vignes Eguisheim    8.8   \n",
      "96                          Le gîte de Ninon et Léon.    8.8   \n",
      "97  Hotel SPA Husseren Collections - Proche Colmar...    8.8   \n",
      "98                                 Auberge du Rempart    8.7   \n",
      "99                                    Gîte Le Hissala    8.7   \n",
      "\n",
      "                                            Hotel_URL   Latitude  Longitude  \n",
      "0   https://www.booking.com/hotel/fr/appartment-co...  42.964603   1.602754  \n",
      "1   https://www.booking.com/hotel/fr/le-flore-stud...  42.968158   1.608351  \n",
      "2   https://www.booking.com/hotel/fr/un-second-sou...  42.966800   1.607245  \n",
      "3   https://www.booking.com/hotel/fr/l-39-arche-de...  42.965734   1.605693  \n",
      "4   https://www.booking.com/hotel/fr/lit-king-size...  42.965325   1.607533  \n",
      "..                                                ...        ...        ...  \n",
      "95  https://www.booking.com/hotel/fr/auberge-des-c...  48.043271   7.304122  \n",
      "96  https://www.booking.com/hotel/fr/le-gite-de-ni...  48.049874   7.307301  \n",
      "97  https://www.booking.com/hotel/fr/husseren-les-...  48.034988   7.276138  \n",
      "98  https://www.booking.com/hotel/fr/auberge-du-re...  48.042158   7.307370  \n",
      "99  https://www.booking.com/hotel/fr/ga-r-te-le-hi...  48.043407   7.307609  \n",
      "\n",
      "[100 rows x 7 columns]\n",
      "Hôtels dans les villes les plus chaudes:\n",
      "                 City  temperature_moyenne  \\\n",
      "0             Bayonne               12.562   \n",
      "1             Bayonne               12.562   \n",
      "2             Bayonne               12.562   \n",
      "3             Bayonne               12.562   \n",
      "4             Bayonne               12.562   \n",
      "..                ...                  ...   \n",
      "95  Mont Saint Michel               11.440   \n",
      "96  Mont Saint Michel               11.440   \n",
      "97  Mont Saint Michel               11.440   \n",
      "98  Mont Saint Michel               11.440   \n",
      "99  Mont Saint Michel               11.440   \n",
      "\n",
      "                                           Hotel_Name  Score  \\\n",
      "0      Appartement de charme Erdizka classé 3 étoiles    9.3   \n",
      "1   La Chambre d'Hote de Mano - Centre-ville de Ba...    9.3   \n",
      "2                        Appartement T2 cosy et calme    9.3   \n",
      "3                                    Parc 709 Bayonne    9.2   \n",
      "4                               Résidence de standing    9.2   \n",
      "..                                                ...    ...   \n",
      "95                             Le Relais Saint Michel    8.0   \n",
      "96                                 Auberge de la Baie    8.0   \n",
      "97                                      Hotel Gabriel    8.0   \n",
      "98                                         Hôtel Vert    8.0   \n",
      "99                             Hôtel la Croix Blanche    7.8   \n",
      "\n",
      "                                            Hotel_URL   Latitude  Longitude  \n",
      "0   https://www.booking.com/hotel/fr/appartement-d...  43.489676  -1.467469  \n",
      "1   https://www.booking.com/hotel/fr/chambre-d-39-...  43.495302  -1.469395  \n",
      "2   https://www.booking.com/hotel/fr/appartement-t...  43.504359  -1.481489  \n",
      "3   https://www.booking.com/hotel/fr/parc-709-bayo...  43.495606  -1.481317  \n",
      "4   https://www.booking.com/hotel/fr/residence-de-...  43.480503  -1.460108  \n",
      "..                                                ...        ...        ...  \n",
      "95  https://www.booking.com/hotel/fr/le-relais-sai...  48.617587  -1.510396  \n",
      "96  https://www.booking.com/hotel/fr/auberge-de-la...  48.615993  -1.488253  \n",
      "97  https://www.booking.com/hotel/fr/hotel-gabriel...  48.615381  -1.510710  \n",
      "98  https://www.booking.com/hotel/fr/vert.en-gb.ht...  48.614700  -1.509617  \n",
      "99  https://www.booking.com/hotel/fr/ha-el-la-croi...  48.635734  -1.509861  \n",
      "\n",
      "[100 rows x 7 columns]\n",
      "Hôtels dans les villes les plus froides:\n",
      "                            City  temperature_moyenne  \\\n",
      "0                       Besancon                3.364   \n",
      "1                       Besancon                3.364   \n",
      "2                       Besancon                3.364   \n",
      "3                       Besancon                3.364   \n",
      "4                       Besancon                3.364   \n",
      "..                           ...                  ...   \n",
      "95  Chateau du Haut Koenigsbourg                0.598   \n",
      "96  Chateau du Haut Koenigsbourg                0.598   \n",
      "97  Chateau du Haut Koenigsbourg                0.598   \n",
      "98  Chateau du Haut Koenigsbourg                0.598   \n",
      "99  Chateau du Haut Koenigsbourg                0.598   \n",
      "\n",
      "                                           Hotel_Name  Score  \\\n",
      "0                       Appartment Les Suites Du Parc    8.0   \n",
      "1                              Best Western Citadelle    8.1   \n",
      "2   Besançon: charmant duplex au pied de la citadelle    8.1   \n",
      "3                                       Hotel Du Nord    8.2   \n",
      "4           Hypercentre calme - Le Gatsby - Coconhome    8.2   \n",
      "..                                                ...    ...   \n",
      "95                                  Au Bout du Chemin    9.6   \n",
      "96                                        Gîte d’Anna    9.6   \n",
      "97                                 Gites les cocottes    9.6   \n",
      "98                                    Au Nid Des Pies    9.8   \n",
      "99                                  Au Jardin de Lina    9.9   \n",
      "\n",
      "                                            Hotel_URL   Latitude  Longitude  \n",
      "0   https://www.booking.com/hotel/fr/appartment-le...  47.246040   6.023162  \n",
      "1   https://www.booking.com/hotel/fr/bestwesternci...  47.231541   6.026580  \n",
      "2   https://www.booking.com/hotel/fr/besancon-char...  47.233395   6.028503  \n",
      "3   https://www.booking.com/hotel/fr/du-nord-besan...  47.237276   6.025870  \n",
      "4   https://www.booking.com/hotel/fr/artdeco.en-gb...  47.237195   6.024776  \n",
      "..                                                ...        ...        ...  \n",
      "95  https://www.booking.com/hotel/fr/au-bout-du-ch...  48.055353   7.122722  \n",
      "96  https://www.booking.com/hotel/fr/gite-d-anna.e...  48.183213   7.559488  \n",
      "97  https://www.booking.com/hotel/fr/gites-les-coc...  48.399641   7.499941  \n",
      "98  https://www.booking.com/hotel/fr/au-nid-des-pi...  48.063379   7.095435  \n",
      "99  https://www.booking.com/hotel/fr/bambou-lapout...  48.151721   7.170253  \n",
      "\n",
      "[100 rows x 7 columns]\n",
      "Hôtels dans les villes les moins pluvieuses:\n",
      "                 City  precipitation_totale  \\\n",
      "0               Paris                   0.0   \n",
      "1            Le Havre                   0.0   \n",
      "2               Rouen                   0.0   \n",
      "3            Le Havre                   0.0   \n",
      "4              Bayeux                   0.0   \n",
      "..                ...                   ...   \n",
      "95  Mont Saint Michel                   0.0   \n",
      "96  Mont Saint Michel                   0.0   \n",
      "97  Mont Saint Michel                   0.0   \n",
      "98  Mont Saint Michel                   0.0   \n",
      "99  Mont Saint Michel                   0.0   \n",
      "\n",
      "                                           Hotel_Name  Score  \\\n",
      "0                                                Rose   10.0   \n",
      "1               F2 Hypercentre - proche gare - rénové   10.0   \n",
      "2   Le Jeanne d'Arc, vue sur la Place du Vieux Marché    9.9   \n",
      "3   Studio \"Le Nid Douillet\" - Tout Confort à Prox...    9.9   \n",
      "4                                 Le Mûrier de Bayeux    9.8   \n",
      "..                                                ...    ...   \n",
      "95                                         Hôtel Vert    8.0   \n",
      "96                                      Hotel Gabriel    8.0   \n",
      "97                             Le Relais Saint Michel    8.0   \n",
      "98                                 Auberge de la Baie    8.0   \n",
      "99                             Hôtel la Croix Blanche    7.8   \n",
      "\n",
      "                                            Hotel_URL   Latitude  Longitude  \n",
      "0   https://www.booking.com/hotel/fr/rose-paris1.e...  48.856799   2.357048  \n",
      "1   https://www.booking.com/hotel/fr/f2-hypercentr...  49.494255   0.118392  \n",
      "2   https://www.booking.com/hotel/fr/le-jeanne-d-a...  49.443675   1.088222  \n",
      "3   https://www.booking.com/hotel/fr/studio-confor...  49.498614   0.125923  \n",
      "4   https://www.booking.com/hotel/fr/le-murier-de-...  49.276935  -0.707281  \n",
      "..                                                ...        ...        ...  \n",
      "95  https://www.booking.com/hotel/fr/vert.en-gb.ht...  48.614700  -1.509617  \n",
      "96  https://www.booking.com/hotel/fr/hotel-gabriel...  48.615381  -1.510710  \n",
      "97  https://www.booking.com/hotel/fr/le-relais-sai...  48.617587  -1.510396  \n",
      "98  https://www.booking.com/hotel/fr/auberge-de-la...  48.615993  -1.488253  \n",
      "99  https://www.booking.com/hotel/fr/ha-el-la-croi...  48.635734  -1.509861  \n",
      "\n",
      "[100 rows x 7 columns]\n"
     ]
    }
   ],
   "source": [
    "# Requêtes SQL pour obtenir les 20 hôtels les mieux noté sur les 5 villes les plus ou les moins \"faire son choix\"\n",
    "query_hotels_vent = \"\"\"\n",
    "WITH VillesMoinsVenteuses AS (\n",
    "    SELECT \"City\", \n",
    "           (\"Vitesse_Vent_Jour_1\" + \"Vitesse_Vent_Jour_2\" + \"Vitesse_Vent_Jour_3\" + \"Vitesse_Vent_Jour_4\" + \"Vitesse_Vent_Jour_5\")/5 as vitesse_moyenne_vent,\n",
    "           \"Latitude\", \"Longitude\"\n",
    "    FROM previsions_meteo\n",
    "    ORDER BY vitesse_moyenne_vent ASC\n",
    "    LIMIT 5\n",
    "),\n",
    "TopHotels AS (\n",
    "    SELECT \n",
    "        v.\"City\",\n",
    "        v.vitesse_moyenne_vent,\n",
    "        h.\"Hotel_Name\",\n",
    "        h.\"Score\",\n",
    "        h.\"Hotel_URL\",\n",
    "        h.\"Latitude\",\n",
    "        h.\"Longitude\",\n",
    "        ROW_NUMBER() OVER (PARTITION BY v.\"City\" ORDER BY h.\"Score\" DESC) as rang\n",
    "    FROM VillesMoinsVenteuses v\n",
    "    JOIN hotels h ON v.\"City\" = h.\"City\"\n",
    ")\n",
    "SELECT \n",
    "    \"City\",\n",
    "    vitesse_moyenne_vent,\n",
    "    \"Hotel_Name\",\n",
    "    \"Score\",\n",
    "    \"Hotel_URL\",\n",
    "    \"Latitude\",\n",
    "    \"Longitude\"\n",
    "FROM TopHotels\n",
    "WHERE rang <= 20\n",
    "ORDER BY vitesse_moyenne_vent ASC, \"Score\" DESC;\n",
    "\"\"\"\n",
    "\n",
    "query_hotels_chaud = \"\"\"\n",
    "WITH VillesChaudes AS (\n",
    "    SELECT \n",
    "        \"City\",\n",
    "        (\"Temperature_Jour_1\" + \"Temperature_Jour_2\" + \"Temperature_Jour_3\" + \n",
    "         \"Temperature_Jour_4\" + \"Temperature_Jour_5\")/5 as temperature_moyenne,\n",
    "        \"Latitude\", \"Longitude\"\n",
    "    FROM previsions_meteo\n",
    "    ORDER BY temperature_moyenne DESC\n",
    "    LIMIT 5\n",
    "), \n",
    "TopHotels AS (\n",
    "    SELECT \n",
    "        v.\"City\",\n",
    "        v.temperature_moyenne,\n",
    "        h.\"Hotel_Name\",\n",
    "        h.\"Score\",\n",
    "        h.\"Hotel_URL\",\n",
    "        h.\"Latitude\",\n",
    "        h.\"Longitude\",\n",
    "        ROW_NUMBER() OVER (PARTITION BY v.\"City\" ORDER BY h.\"Score\" DESC) as rang\n",
    "    FROM VillesChaudes v\n",
    "    JOIN hotels h ON v.\"City\" = h.\"City\"\n",
    ")\n",
    "SELECT \n",
    "    \"City\",\n",
    "    temperature_moyenne,\n",
    "    \"Hotel_Name\",\n",
    "    \"Score\",\n",
    "    \"Hotel_URL\",\n",
    "    \"Latitude\",\n",
    "    \"Longitude\"\n",
    "FROM TopHotels \n",
    "WHERE rang <= 20 \n",
    "ORDER BY temperature_moyenne DESC, \"Score\" DESC;\n",
    "\"\"\"\n",
    "\n",
    "query_hotels_froid = \"\"\"\n",
    "WITH VillesFroides AS (\n",
    "    SELECT \n",
    "        \"City\",\n",
    "        (\"Temperature_Jour_1\" + \"Temperature_Jour_2\" + \"Temperature_Jour_3\" + \n",
    "         \"Temperature_Jour_4\" + \"Temperature_Jour_5\")/5 as temperature_moyenne,\n",
    "        \"Latitude\", \"Longitude\"\n",
    "    FROM previsions_meteo\n",
    "    ORDER BY temperature_moyenne ASC\n",
    "    LIMIT 5\n",
    "), \n",
    "TopHotels AS (\n",
    "    SELECT \n",
    "        v.\"City\",\n",
    "        v.temperature_moyenne,\n",
    "        h.\"Hotel_Name\",\n",
    "        h.\"Score\",\n",
    "        h.\"Hotel_URL\",\n",
    "        h.\"Latitude\",\n",
    "        h.\"Longitude\",\n",
    "        ROW_NUMBER() OVER (PARTITION BY v.\"City\" ORDER BY h.\"Score\" DESC) as rang\n",
    "    FROM Villesfroides v\n",
    "    JOIN hotels h ON v.\"City\" = h.\"City\"\n",
    ")\n",
    "SELECT \n",
    "    \"City\",\n",
    "    temperature_moyenne,\n",
    "    \"Hotel_Name\",\n",
    "    \"Score\",\n",
    "    \"Hotel_URL\",\n",
    "    \"Latitude\",\n",
    "    \"Longitude\"\n",
    "FROM TopHotels \n",
    "WHERE rang <= 20 \n",
    "ORDER BY temperature_moyenne DESC, \"Score\" ASC;\n",
    "\"\"\"\n",
    "\n",
    "query_hotels_sec = \"\"\"\n",
    "WITH VillesSeches AS (\n",
    "    SELECT \"City\",\n",
    "           (\"Precipitation_Jour_1\" + \"Precipitation_Jour_2\" + \"Precipitation_Jour_3\" + \"Precipitation_Jour_4\" + \"Precipitation_Jour_5\") as precipitation_totale,\n",
    "           \"Latitude\", \"Longitude\"\n",
    "    FROM previsions_meteo\n",
    "    ORDER BY precipitation_totale ASC\n",
    "    LIMIT 5\n",
    "),\n",
    "TopHotels AS (\n",
    "    SELECT \n",
    "        v.\"City\",\n",
    "        v.precipitation_totale,\n",
    "        h.\"Hotel_Name\",\n",
    "        h.\"Score\",\n",
    "        h.\"Hotel_URL\",\n",
    "        h.\"Latitude\",\n",
    "        h.\"Longitude\",\n",
    "        ROW_NUMBER() OVER (PARTITION BY v.\"City\" ORDER BY h.\"Score\" DESC) as rang\n",
    "    FROM VillesSeches v\n",
    "    JOIN hotels h ON v.\"City\" = h.\"City\"\n",
    ")\n",
    "SELECT \n",
    "    \"City\",\n",
    "    precipitation_totale,\n",
    "    \"Hotel_Name\",\n",
    "    \"Score\",\n",
    "    \"Hotel_URL\",\n",
    "    \"Latitude\",\n",
    "    \"Longitude\"\n",
    "FROM TopHotels\n",
    "WHERE rang <= 20\n",
    "ORDER BY precipitation_totale ASC, \"Score\" DESC;\n",
    "\"\"\"\n",
    "\n",
    "# Exécution des requêtes\n",
    "with engine.connect() as conn:\n",
    "    hotels_villes_calmes = pd.read_sql_query(query_hotels_vent, conn)\n",
    "    hotels_villes_chaudes = pd.read_sql_query(query_hotels_chaud, conn)\n",
    "    hotels_villes_froides = pd.read_sql_query(query_hotels_froid, conn)\n",
    "    hotels_villes_seches = pd.read_sql_query(query_hotels_sec, conn)\n",
    "\n",
    "print(\"Hôtels dans les villes les moins venteuses:\")\n",
    "print(hotels_villes_calmes)\n",
    "print(\"Hôtels dans les villes les plus chaudes:\")\n",
    "print(hotels_villes_chaudes)\n",
    "print(\"Hôtels dans les villes les plus froides:\")\n",
    "print(hotels_villes_froides)\n",
    "print(\"Hôtels dans les villes les moins pluvieuses:\")\n",
    "print(hotels_villes_seches)"
   ]
  },
  {
   "cell_type": "markdown",
   "metadata": {},
   "source": [
    "Terminons par affichier les cartes comme demandés dans le projet. Pour la deuxième carte, faites un zoom sur la zone de Biarritz"
   ]
  },
  {
   "cell_type": "code",
   "execution_count": 16,
   "metadata": {},
   "outputs": [
    {
     "data": {
      "application/vnd.plotly.v1+json": {
       "config": {
        "plotlyServerURL": "https://plot.ly"
       },
       "data": [
        {
         "customdata": [
          [
           12.562
          ],
          [
           12.475999999999999
          ],
          [
           11.872000000000002
          ],
          [
           11.796
          ],
          [
           11.440000000000001
          ]
         ],
         "hovertemplate": "<b>%{hovertext}</b><br><br>Latitude=%{lat}<br>Longitude=%{lon}<br>temperature_moyenne=%{marker.color}<extra></extra>",
         "hovertext": [
          "Bayonne",
          "Biarritz",
          "Marseille",
          "Collioure",
          "Mont Saint Michel"
         ],
         "lat": [
          43.4945144,
          43.47114375,
          43.2961743,
          42.52505,
          48.6359541
         ],
         "legendgroup": "",
         "lon": [
          -1.4736657,
          -1.552726590666314,
          5.3699525,
          3.0831554,
          -1.511459954959514
         ],
         "marker": {
          "color": [
           12.562,
           12.475999999999999,
           11.872000000000002,
           11.796,
           11.440000000000001
          ],
          "coloraxis": "coloraxis"
         },
         "mode": "markers",
         "name": "",
         "showlegend": false,
         "subplot": "mapbox",
         "type": "scattermapbox"
        }
       ],
       "layout": {
        "coloraxis": {
         "colorbar": {
          "title": {
           "text": "temperature_moyenne"
          }
         },
         "colorscale": [
          [
           0,
           "blue"
          ],
          [
           0.5,
           "purple"
          ],
          [
           1,
           "red"
          ]
         ]
        },
        "height": 300,
        "legend": {
         "tracegroupgap": 0
        },
        "mapbox": {
         "center": {
          "lat": 44.28456730999999,
          "lon": 0.7830511308748345
         },
         "domain": {
          "x": [
           0,
           1
          ],
          "y": [
           0,
           1
          ]
         },
         "style": "open-street-map",
         "zoom": 4
        },
        "margin": {
         "b": 0,
         "l": 0,
         "r": 0,
         "t": 0
        },
        "template": {
         "data": {
          "bar": [
           {
            "error_x": {
             "color": "#2a3f5f"
            },
            "error_y": {
             "color": "#2a3f5f"
            },
            "marker": {
             "line": {
              "color": "#E5ECF6",
              "width": 0.5
             },
             "pattern": {
              "fillmode": "overlay",
              "size": 10,
              "solidity": 0.2
             }
            },
            "type": "bar"
           }
          ],
          "barpolar": [
           {
            "marker": {
             "line": {
              "color": "#E5ECF6",
              "width": 0.5
             },
             "pattern": {
              "fillmode": "overlay",
              "size": 10,
              "solidity": 0.2
             }
            },
            "type": "barpolar"
           }
          ],
          "carpet": [
           {
            "aaxis": {
             "endlinecolor": "#2a3f5f",
             "gridcolor": "white",
             "linecolor": "white",
             "minorgridcolor": "white",
             "startlinecolor": "#2a3f5f"
            },
            "baxis": {
             "endlinecolor": "#2a3f5f",
             "gridcolor": "white",
             "linecolor": "white",
             "minorgridcolor": "white",
             "startlinecolor": "#2a3f5f"
            },
            "type": "carpet"
           }
          ],
          "choropleth": [
           {
            "colorbar": {
             "outlinewidth": 0,
             "ticks": ""
            },
            "type": "choropleth"
           }
          ],
          "contour": [
           {
            "colorbar": {
             "outlinewidth": 0,
             "ticks": ""
            },
            "colorscale": [
             [
              0,
              "#0d0887"
             ],
             [
              0.1111111111111111,
              "#46039f"
             ],
             [
              0.2222222222222222,
              "#7201a8"
             ],
             [
              0.3333333333333333,
              "#9c179e"
             ],
             [
              0.4444444444444444,
              "#bd3786"
             ],
             [
              0.5555555555555556,
              "#d8576b"
             ],
             [
              0.6666666666666666,
              "#ed7953"
             ],
             [
              0.7777777777777778,
              "#fb9f3a"
             ],
             [
              0.8888888888888888,
              "#fdca26"
             ],
             [
              1,
              "#f0f921"
             ]
            ],
            "type": "contour"
           }
          ],
          "contourcarpet": [
           {
            "colorbar": {
             "outlinewidth": 0,
             "ticks": ""
            },
            "type": "contourcarpet"
           }
          ],
          "heatmap": [
           {
            "colorbar": {
             "outlinewidth": 0,
             "ticks": ""
            },
            "colorscale": [
             [
              0,
              "#0d0887"
             ],
             [
              0.1111111111111111,
              "#46039f"
             ],
             [
              0.2222222222222222,
              "#7201a8"
             ],
             [
              0.3333333333333333,
              "#9c179e"
             ],
             [
              0.4444444444444444,
              "#bd3786"
             ],
             [
              0.5555555555555556,
              "#d8576b"
             ],
             [
              0.6666666666666666,
              "#ed7953"
             ],
             [
              0.7777777777777778,
              "#fb9f3a"
             ],
             [
              0.8888888888888888,
              "#fdca26"
             ],
             [
              1,
              "#f0f921"
             ]
            ],
            "type": "heatmap"
           }
          ],
          "heatmapgl": [
           {
            "colorbar": {
             "outlinewidth": 0,
             "ticks": ""
            },
            "colorscale": [
             [
              0,
              "#0d0887"
             ],
             [
              0.1111111111111111,
              "#46039f"
             ],
             [
              0.2222222222222222,
              "#7201a8"
             ],
             [
              0.3333333333333333,
              "#9c179e"
             ],
             [
              0.4444444444444444,
              "#bd3786"
             ],
             [
              0.5555555555555556,
              "#d8576b"
             ],
             [
              0.6666666666666666,
              "#ed7953"
             ],
             [
              0.7777777777777778,
              "#fb9f3a"
             ],
             [
              0.8888888888888888,
              "#fdca26"
             ],
             [
              1,
              "#f0f921"
             ]
            ],
            "type": "heatmapgl"
           }
          ],
          "histogram": [
           {
            "marker": {
             "pattern": {
              "fillmode": "overlay",
              "size": 10,
              "solidity": 0.2
             }
            },
            "type": "histogram"
           }
          ],
          "histogram2d": [
           {
            "colorbar": {
             "outlinewidth": 0,
             "ticks": ""
            },
            "colorscale": [
             [
              0,
              "#0d0887"
             ],
             [
              0.1111111111111111,
              "#46039f"
             ],
             [
              0.2222222222222222,
              "#7201a8"
             ],
             [
              0.3333333333333333,
              "#9c179e"
             ],
             [
              0.4444444444444444,
              "#bd3786"
             ],
             [
              0.5555555555555556,
              "#d8576b"
             ],
             [
              0.6666666666666666,
              "#ed7953"
             ],
             [
              0.7777777777777778,
              "#fb9f3a"
             ],
             [
              0.8888888888888888,
              "#fdca26"
             ],
             [
              1,
              "#f0f921"
             ]
            ],
            "type": "histogram2d"
           }
          ],
          "histogram2dcontour": [
           {
            "colorbar": {
             "outlinewidth": 0,
             "ticks": ""
            },
            "colorscale": [
             [
              0,
              "#0d0887"
             ],
             [
              0.1111111111111111,
              "#46039f"
             ],
             [
              0.2222222222222222,
              "#7201a8"
             ],
             [
              0.3333333333333333,
              "#9c179e"
             ],
             [
              0.4444444444444444,
              "#bd3786"
             ],
             [
              0.5555555555555556,
              "#d8576b"
             ],
             [
              0.6666666666666666,
              "#ed7953"
             ],
             [
              0.7777777777777778,
              "#fb9f3a"
             ],
             [
              0.8888888888888888,
              "#fdca26"
             ],
             [
              1,
              "#f0f921"
             ]
            ],
            "type": "histogram2dcontour"
           }
          ],
          "mesh3d": [
           {
            "colorbar": {
             "outlinewidth": 0,
             "ticks": ""
            },
            "type": "mesh3d"
           }
          ],
          "parcoords": [
           {
            "line": {
             "colorbar": {
              "outlinewidth": 0,
              "ticks": ""
             }
            },
            "type": "parcoords"
           }
          ],
          "pie": [
           {
            "automargin": true,
            "type": "pie"
           }
          ],
          "scatter": [
           {
            "fillpattern": {
             "fillmode": "overlay",
             "size": 10,
             "solidity": 0.2
            },
            "type": "scatter"
           }
          ],
          "scatter3d": [
           {
            "line": {
             "colorbar": {
              "outlinewidth": 0,
              "ticks": ""
             }
            },
            "marker": {
             "colorbar": {
              "outlinewidth": 0,
              "ticks": ""
             }
            },
            "type": "scatter3d"
           }
          ],
          "scattercarpet": [
           {
            "marker": {
             "colorbar": {
              "outlinewidth": 0,
              "ticks": ""
             }
            },
            "type": "scattercarpet"
           }
          ],
          "scattergeo": [
           {
            "marker": {
             "colorbar": {
              "outlinewidth": 0,
              "ticks": ""
             }
            },
            "type": "scattergeo"
           }
          ],
          "scattergl": [
           {
            "marker": {
             "colorbar": {
              "outlinewidth": 0,
              "ticks": ""
             }
            },
            "type": "scattergl"
           }
          ],
          "scattermapbox": [
           {
            "marker": {
             "colorbar": {
              "outlinewidth": 0,
              "ticks": ""
             }
            },
            "type": "scattermapbox"
           }
          ],
          "scatterpolar": [
           {
            "marker": {
             "colorbar": {
              "outlinewidth": 0,
              "ticks": ""
             }
            },
            "type": "scatterpolar"
           }
          ],
          "scatterpolargl": [
           {
            "marker": {
             "colorbar": {
              "outlinewidth": 0,
              "ticks": ""
             }
            },
            "type": "scatterpolargl"
           }
          ],
          "scatterternary": [
           {
            "marker": {
             "colorbar": {
              "outlinewidth": 0,
              "ticks": ""
             }
            },
            "type": "scatterternary"
           }
          ],
          "surface": [
           {
            "colorbar": {
             "outlinewidth": 0,
             "ticks": ""
            },
            "colorscale": [
             [
              0,
              "#0d0887"
             ],
             [
              0.1111111111111111,
              "#46039f"
             ],
             [
              0.2222222222222222,
              "#7201a8"
             ],
             [
              0.3333333333333333,
              "#9c179e"
             ],
             [
              0.4444444444444444,
              "#bd3786"
             ],
             [
              0.5555555555555556,
              "#d8576b"
             ],
             [
              0.6666666666666666,
              "#ed7953"
             ],
             [
              0.7777777777777778,
              "#fb9f3a"
             ],
             [
              0.8888888888888888,
              "#fdca26"
             ],
             [
              1,
              "#f0f921"
             ]
            ],
            "type": "surface"
           }
          ],
          "table": [
           {
            "cells": {
             "fill": {
              "color": "#EBF0F8"
             },
             "line": {
              "color": "white"
             }
            },
            "header": {
             "fill": {
              "color": "#C8D4E3"
             },
             "line": {
              "color": "white"
             }
            },
            "type": "table"
           }
          ]
         },
         "layout": {
          "annotationdefaults": {
           "arrowcolor": "#2a3f5f",
           "arrowhead": 0,
           "arrowwidth": 1
          },
          "autotypenumbers": "strict",
          "coloraxis": {
           "colorbar": {
            "outlinewidth": 0,
            "ticks": ""
           }
          },
          "colorscale": {
           "diverging": [
            [
             0,
             "#8e0152"
            ],
            [
             0.1,
             "#c51b7d"
            ],
            [
             0.2,
             "#de77ae"
            ],
            [
             0.3,
             "#f1b6da"
            ],
            [
             0.4,
             "#fde0ef"
            ],
            [
             0.5,
             "#f7f7f7"
            ],
            [
             0.6,
             "#e6f5d0"
            ],
            [
             0.7,
             "#b8e186"
            ],
            [
             0.8,
             "#7fbc41"
            ],
            [
             0.9,
             "#4d9221"
            ],
            [
             1,
             "#276419"
            ]
           ],
           "sequential": [
            [
             0,
             "#0d0887"
            ],
            [
             0.1111111111111111,
             "#46039f"
            ],
            [
             0.2222222222222222,
             "#7201a8"
            ],
            [
             0.3333333333333333,
             "#9c179e"
            ],
            [
             0.4444444444444444,
             "#bd3786"
            ],
            [
             0.5555555555555556,
             "#d8576b"
            ],
            [
             0.6666666666666666,
             "#ed7953"
            ],
            [
             0.7777777777777778,
             "#fb9f3a"
            ],
            [
             0.8888888888888888,
             "#fdca26"
            ],
            [
             1,
             "#f0f921"
            ]
           ],
           "sequentialminus": [
            [
             0,
             "#0d0887"
            ],
            [
             0.1111111111111111,
             "#46039f"
            ],
            [
             0.2222222222222222,
             "#7201a8"
            ],
            [
             0.3333333333333333,
             "#9c179e"
            ],
            [
             0.4444444444444444,
             "#bd3786"
            ],
            [
             0.5555555555555556,
             "#d8576b"
            ],
            [
             0.6666666666666666,
             "#ed7953"
            ],
            [
             0.7777777777777778,
             "#fb9f3a"
            ],
            [
             0.8888888888888888,
             "#fdca26"
            ],
            [
             1,
             "#f0f921"
            ]
           ]
          },
          "colorway": [
           "#636efa",
           "#EF553B",
           "#00cc96",
           "#ab63fa",
           "#FFA15A",
           "#19d3f3",
           "#FF6692",
           "#B6E880",
           "#FF97FF",
           "#FECB52"
          ],
          "font": {
           "color": "#2a3f5f"
          },
          "geo": {
           "bgcolor": "white",
           "lakecolor": "white",
           "landcolor": "#E5ECF6",
           "showlakes": true,
           "showland": true,
           "subunitcolor": "white"
          },
          "hoverlabel": {
           "align": "left"
          },
          "hovermode": "closest",
          "mapbox": {
           "style": "light"
          },
          "paper_bgcolor": "white",
          "plot_bgcolor": "#E5ECF6",
          "polar": {
           "angularaxis": {
            "gridcolor": "white",
            "linecolor": "white",
            "ticks": ""
           },
           "bgcolor": "#E5ECF6",
           "radialaxis": {
            "gridcolor": "white",
            "linecolor": "white",
            "ticks": ""
           }
          },
          "scene": {
           "xaxis": {
            "backgroundcolor": "#E5ECF6",
            "gridcolor": "white",
            "gridwidth": 2,
            "linecolor": "white",
            "showbackground": true,
            "ticks": "",
            "zerolinecolor": "white"
           },
           "yaxis": {
            "backgroundcolor": "#E5ECF6",
            "gridcolor": "white",
            "gridwidth": 2,
            "linecolor": "white",
            "showbackground": true,
            "ticks": "",
            "zerolinecolor": "white"
           },
           "zaxis": {
            "backgroundcolor": "#E5ECF6",
            "gridcolor": "white",
            "gridwidth": 2,
            "linecolor": "white",
            "showbackground": true,
            "ticks": "",
            "zerolinecolor": "white"
           }
          },
          "shapedefaults": {
           "line": {
            "color": "#2a3f5f"
           }
          },
          "ternary": {
           "aaxis": {
            "gridcolor": "white",
            "linecolor": "white",
            "ticks": ""
           },
           "baxis": {
            "gridcolor": "white",
            "linecolor": "white",
            "ticks": ""
           },
           "bgcolor": "#E5ECF6",
           "caxis": {
            "gridcolor": "white",
            "linecolor": "white",
            "ticks": ""
           }
          },
          "title": {
           "x": 0.05
          },
          "xaxis": {
           "automargin": true,
           "gridcolor": "white",
           "linecolor": "white",
           "ticks": "",
           "title": {
            "standoff": 15
           },
           "zerolinecolor": "white",
           "zerolinewidth": 2
          },
          "yaxis": {
           "automargin": true,
           "gridcolor": "white",
           "linecolor": "white",
           "ticks": "",
           "title": {
            "standoff": 15
           },
           "zerolinecolor": "white",
           "zerolinewidth": 2
          }
         }
        },
        "title": {
         "text": "Les 5 villes les plus chaudes en France"
        }
       }
      }
     },
     "metadata": {},
     "output_type": "display_data"
    },
    {
     "data": {
      "application/vnd.plotly.v1+json": {
       "config": {
        "plotlyServerURL": "https://plot.ly"
       },
       "data": [
        {
         "customdata": [
          [
           9.3
          ],
          [
           9.3
          ],
          [
           9.3
          ],
          [
           9.2
          ],
          [
           9.2
          ],
          [
           9.2
          ],
          [
           9
          ],
          [
           9
          ],
          [
           8.9
          ],
          [
           8.8
          ],
          [
           8.7
          ],
          [
           8.6
          ],
          [
           8.5
          ],
          [
           8.4
          ],
          [
           8.4
          ],
          [
           8.2
          ],
          [
           8.2
          ],
          [
           8.1
          ],
          [
           8.1
          ],
          [
           8
          ],
          [
           9.8
          ],
          [
           9.3
          ],
          [
           9.2
          ],
          [
           9.1
          ],
          [
           9
          ],
          [
           9
          ],
          [
           9
          ],
          [
           8.9
          ],
          [
           8.9
          ],
          [
           8.8
          ],
          [
           8.7
          ],
          [
           8.7
          ],
          [
           8.7
          ],
          [
           8.6
          ],
          [
           8.6
          ],
          [
           8.6
          ],
          [
           8.5
          ],
          [
           8.5
          ],
          [
           8.4
          ],
          [
           8.3
          ],
          [
           null
          ],
          [
           null
          ],
          [
           10
          ],
          [
           9.8
          ],
          [
           9.7
          ],
          [
           9.7
          ],
          [
           9.6
          ],
          [
           9.6
          ],
          [
           9.5
          ],
          [
           9.5
          ],
          [
           9.3
          ],
          [
           9.3
          ],
          [
           9
          ],
          [
           9
          ],
          [
           8.9
          ],
          [
           8.8
          ],
          [
           8.7
          ],
          [
           8.6
          ],
          [
           8.6
          ],
          [
           8.5
          ],
          [
           10
          ],
          [
           10
          ],
          [
           9.6
          ],
          [
           9.6
          ],
          [
           9.3
          ],
          [
           9.2
          ],
          [
           9.2
          ],
          [
           9.1
          ],
          [
           9.1
          ],
          [
           9.1
          ],
          [
           9.1
          ],
          [
           9
          ],
          [
           9
          ],
          [
           8.9
          ],
          [
           8.9
          ],
          [
           8.9
          ],
          [
           8.7
          ],
          [
           8.7
          ],
          [
           8.5
          ],
          [
           8.4
          ],
          [
           9.5
          ],
          [
           9.4
          ],
          [
           9.4
          ],
          [
           9.3
          ],
          [
           9.3
          ],
          [
           9.2
          ],
          [
           9.1
          ],
          [
           8.9
          ],
          [
           8.8
          ],
          [
           8.4
          ],
          [
           8.3
          ],
          [
           8.2
          ],
          [
           8.2
          ],
          [
           8.2
          ],
          [
           8.1
          ],
          [
           8
          ],
          [
           8
          ],
          [
           8
          ],
          [
           8
          ],
          [
           7.8
          ]
         ],
         "hovertemplate": "<b>%{hovertext}</b><br><br>Latitude=%{lat}<br>Longitude=%{lon}<br>Score=%{marker.color}<extra></extra>",
         "hovertext": [
          "Appartement de charme Erdizka classé 3 étoiles",
          "La Chambre d'Hote de Mano - Centre-ville de Bayonne",
          "Appartement T2 cosy et calme",
          "Parc 709 Bayonne",
          "Résidence de standing",
          "Libertitu",
          "Loft ERREKALDEA 140m2 3 chambres 6 pers 200m mairie 1er étage",
          "Hôtel Villa KOEGUI Bayonne",
          "jeu de paume",
          "Boutique Hôtel Un Appart en Ville",
          "Cosy appartement Bayonne historique",
          "Maison d'hôtes City Break MIRADOUR",
          "Hôtel des Basses Pyrénées - Bayonne",
          "ibis Styles Bayonne",
          "Hôtel Mercure Bayonne Centre Le Grand Hotel",
          "Hotel Le Port Neuf",
          "Hôtel Le Bayonne",
          "Amatxi Etxea Au cœur du centre historique",
          "Okko Hotels Bayonne Centre",
          "ibis Bayonne Centre",
          "VUE EXCEPTIONNELLE SUR L’OCEAN STUDIO 2/4 pers",
          "L'océan à perte de vue, la grande plage à vos pieds",
          "Hôtel de La Plage",
          "Coup de Cœur assuré pour ce T2 rénové Hyper centre",
          "BLUE COCOON : hypercentre, plages, WIFI",
          "ALFRED HOTELS Les Halles",
          "Hôtel Barnea",
          "Hôtel & Espace Bien-être La Maison du Lierre",
          "Studio à La Grande Plage de Biarritz",
          "Logement hyper centre et près de la plage 1er étage",
          "SURF HOSTEL BIARRITZ",
          "Victoria Surf Studio d'Architecte",
          "Petit appartement douillet très bien situé",
          "Hôtel PALMITO",
          "Studio Marisca - Welkeys",
          "Hotel Biarritz Atlantique - Lycée Hotelier - Management School",
          "Beautiful and bright 1st Floor Flat with large Terrace - Biarritz City Center",
          "Appartement bord de mer Biarritz",
          "Studio Arché - Welkeys",
          "Résidence Vacances Bleues Le Grand Large",
          "Le Magnifique Grande terrasse",
          "Appart 1 ch clim proche Vieux-Port et St-Charles",
          "3CAPU2 - Cosy T2 refait à neuf - Noaille",
          "Le 30 - HyperCentral - by TheGoodButler",
          "Loft spacieux-2 min de la plage",
          "Bleu Ciel au Panier",
          "le 5e ciel : un nid au dessus de Marseille",
          "Ô république",
          "Le Pytheas - Nid douillet à deux pas du vieux port",
          "Appart sur la rue de la république",
          "Marseille City Chambres&Appartements",
          "- Maison ÛMA - Wifi, Netflix, Mer et Centre",
          "Petit Boucan 47m2 Dans le coeur du Panier",
          "Le cosy",
          "Studio neuf et cosy sur la Canebière Vieux-Port",
          "Appartement près du Vieux-Port",
          "Élegant Appartement - Hyper Centre & Climatisation - Les Frères de la Loc'",
          "PARADISE Earth & Sea",
          "Les Princes du Vieux Port - Central & Climatisation - Les Frères de la Loc'",
          "LES TOITS DU VIEUX-PORT",
          "La Terrasse Bleue",
          "Sur les hauteurs de Collioure",
          "Gorgeous apartment superbly located in old town",
          "Fenêtre sur Collioure",
          "Les Suites de Collioure",
          "Résidence Collioure Plage",
          "Canta la Mar - Vue exceptionnelle",
          "Studio Centre Plage parking gratuit",
          "Chambre_privée_Collioure_centre",
          "Lumières à Collioure",
          "Les Roches Brunes",
          "appart central et son parking privatif gratuit",
          "Appartement dans le quartier recherché du mouré",
          "Le Petit Colliourenc",
          "APP' ART CENTRE PLAGE + PARKING GRATUIT",
          "Appartement Collioure centre & GARAGE PRIVATIF",
          "Joli T2 vue mer au calme.",
          "La Chambre De Salome",
          "Hôtel la Bona Casa",
          "Le Mas des Citronniers",
          "Le Petit Moulin Rouge, B&B, SDB en-suite, parking privé gratuit",
          "Etoile des Grèves",
          "Au Mont Chez Vous #Jacuzzi et Vue Mont-St-Michel#",
          "La Jacotière",
          "Les Vieilles Digues",
          "Vent des Grèves",
          "Maison au pied du Mont Saint Michel 2",
          "Le Marquis De La Guintre",
          "gites 2 beauvoir",
          "Chambres d'Hôtes Farcy \"La P'tite Transhumance\"",
          "Chez Adèle",
          "Apparthôtel Mont Saint Michel - Résidence Fleurdumont",
          "Le Relais Du Roy",
          "Mercure Mont Saint Michel",
          "Auberge Saint Pierre",
          "Le Relais Saint Michel",
          "Auberge de la Baie",
          "Hotel Gabriel",
          "Hôtel Vert",
          "Hôtel la Croix Blanche"
         ],
         "lat": [
          43.4896757,
          43.49530231697232,
          43.5043589,
          43.495606,
          43.480503,
          43.494486,
          43.4915017789507,
          43.492371,
          43.4898477,
          43.4909225,
          43.4952,
          43.489513,
          43.48841135250723,
          43.4954057411974,
          43.492311913537534,
          43.49166880556409,
          43.485026198989566,
          43.491263017069,
          43.49534430000001,
          43.492713,
          43.4809166,
          43.4845717,
          43.482133269718496,
          43.480819,
          43.4825328,
          43.481694404236,
          43.48072811046226,
          43.480133535313925,
          43.48395187382006,
          43.4835953207465,
          43.4729141,
          43.4847531,
          43.4825715,
          43.48205055695561,
          43.478673,
          43.46235808911393,
          43.4804092,
          43.48463169508036,
          43.4826292,
          43.48065123446311,
          43.2924474,
          43.301039,
          43.295692,
          43.2975976,
          43.2915801,
          43.2993895,
          43.2977204,
          43.298528132925,
          43.2943915,
          43.2998114,
          43.30195653192128,
          43.2914753,
          43.2981083,
          43.2981083,
          43.2945988,
          43.2935229,
          43.2993436,
          43.2933693,
          43.294649577899,
          43.296695,
          42.522107537858,
          42.5250249,
          42.5259943,
          42.52709583002456,
          42.52439,
          42.52389238080244,
          42.5244310979188,
          42.52298767656799,
          42.526851,
          42.527101760049,
          42.52534777273077,
          42.52488242025802,
          42.528101,
          42.52612488316423,
          42.5233452832972,
          42.524608160146,
          42.522698010833,
          42.52111689594046,
          42.52547152830637,
          42.52538158720205,
          48.5963383,
          48.615509,
          48.620481,
          48.61411436123917,
          48.60418750441497,
          48.615403,
          48.6156117,
          48.6248647057706,
          48.5976913,
          48.61435411468349,
          48.636165894011,
          48.596482169806976,
          48.61626270451236,
          48.61424652959294,
          48.63568797869143,
          48.6175872716489,
          48.61599317655586,
          48.61538141368341,
          48.61470048629041,
          48.63573406427125
         ],
         "legendgroup": "",
         "lon": [
          -1.4674694,
          -1.4693946441802836,
          -1.4814895,
          -1.481317,
          -1.460108,
          -1.483622,
          -1.47537070476983,
          -1.472588,
          -1.4718019,
          -1.4774412,
          -1.469412,
          -1.479078,
          -1.47714337381899,
          -1.4708241820335388,
          -1.476609706878662,
          -1.47638238966465,
          -1.4753705263137815,
          -1.475549617197,
          -1.4825117999999975,
          -1.465659,
          -1.5662698,
          -1.5575612,
          -1.567530557513237,
          -1.563038,
          -1.5620006,
          -1.5630841255187988,
          -1.5642817318439484,
          -1.560761332511902,
          -1.5578550134949931,
          -1.55615229159594,
          -1.5475989,
          -1.5574496999999998,
          -1.5636216,
          -1.5657448768615725,
          -1.558378,
          -1.5522771711639507,
          -1.5572035,
          -1.5572498398811376,
          -1.560718,
          -1.5653452277183533,
          5.3773904,
          5.3808573,
          5.3792503,
          5.3852234,
          5.3562476,
          5.3665068,
          5.3852132,
          5.372487938493,
          5.375061,
          5.3709529,
          5.372294336557388,
          5.3573491,
          5.3659528,
          5.3659528,
          5.3756516,
          5.3792384,
          5.3801118,
          5.376677,
          5.375692183467,
          5.372832,
          3.093752125162,
          3.0720023,
          3.0819807,
          3.0845235515379037,
          3.082726,
          3.08739067301633,
          3.09031585214175,
          3.087329664129035,
          3.083962,
          3.084494717791,
          3.0903244632682725,
          3.0818789317017803,
          3.0853391,
          3.075606643377693,
          3.08696843573436,
          3.082648757417,
          3.081925173016,
          3.0773091316223145,
          3.0826986953616142,
          3.082563914358616,
          -1.5055117,
          -1.491524,
          -1.458086,
          -1.5043142437934875,
          -1.5115991234779358,
          -1.49144,
          -1.4885121,
          -1.44534185528755,
          -1.5047171,
          -1.4870535165329102,
          -1.5104757792319998,
          -1.5031469166023044,
          -1.510905772447586,
          -1.510545015335083,
          -1.5098825097084043,
          -1.51039615273476,
          -1.4882531762123108,
          -1.510709971189499,
          -1.5096169710159302,
          -1.5098610520362854
         ],
         "marker": {
          "color": [
           9.3,
           9.3,
           9.3,
           9.2,
           9.2,
           9.2,
           9,
           9,
           8.9,
           8.8,
           8.7,
           8.6,
           8.5,
           8.4,
           8.4,
           8.2,
           8.2,
           8.1,
           8.1,
           8,
           9.8,
           9.3,
           9.2,
           9.1,
           9,
           9,
           9,
           8.9,
           8.9,
           8.8,
           8.7,
           8.7,
           8.7,
           8.6,
           8.6,
           8.6,
           8.5,
           8.5,
           8.4,
           8.3,
           null,
           null,
           10,
           9.8,
           9.7,
           9.7,
           9.6,
           9.6,
           9.5,
           9.5,
           9.3,
           9.3,
           9,
           9,
           8.9,
           8.8,
           8.7,
           8.6,
           8.6,
           8.5,
           10,
           10,
           9.6,
           9.6,
           9.3,
           9.2,
           9.2,
           9.1,
           9.1,
           9.1,
           9.1,
           9,
           9,
           8.9,
           8.9,
           8.9,
           8.7,
           8.7,
           8.5,
           8.4,
           9.5,
           9.4,
           9.4,
           9.3,
           9.3,
           9.2,
           9.1,
           8.9,
           8.8,
           8.4,
           8.3,
           8.2,
           8.2,
           8.2,
           8.1,
           8,
           8,
           8,
           8,
           7.8
          ],
          "coloraxis": "coloraxis"
         },
         "mode": "markers",
         "name": "",
         "showlegend": false,
         "subplot": "mapbox",
         "type": "scattermapbox"
        }
       ],
       "layout": {
        "coloraxis": {
         "colorbar": {
          "title": {
           "text": "Score"
          }
         },
         "colorscale": [
          [
           0,
           "#440154"
          ],
          [
           0.1111111111111111,
           "#482878"
          ],
          [
           0.2222222222222222,
           "#3e4989"
          ],
          [
           0.3333333333333333,
           "#31688e"
          ],
          [
           0.4444444444444444,
           "#26828e"
          ],
          [
           0.5555555555555556,
           "#1f9e89"
          ],
          [
           0.6666666666666666,
           "#35b779"
          ],
          [
           0.7777777777777778,
           "#6ece58"
          ],
          [
           0.8888888888888888,
           "#b5de2b"
          ],
          [
           1,
           "#fde725"
          ]
         ]
        },
        "height": 300,
        "legend": {
         "tracegroupgap": 0
        },
        "mapbox": {
         "center": {
          "lat": 44.28197925857716,
          "lon": 0.7849152631958645
         },
         "domain": {
          "x": [
           0,
           1
          ],
          "y": [
           0,
           1
          ]
         },
         "style": "open-street-map",
         "zoom": 4
        },
        "margin": {
         "b": 0,
         "l": 0,
         "r": 0,
         "t": 0
        },
        "template": {
         "data": {
          "bar": [
           {
            "error_x": {
             "color": "#2a3f5f"
            },
            "error_y": {
             "color": "#2a3f5f"
            },
            "marker": {
             "line": {
              "color": "#E5ECF6",
              "width": 0.5
             },
             "pattern": {
              "fillmode": "overlay",
              "size": 10,
              "solidity": 0.2
             }
            },
            "type": "bar"
           }
          ],
          "barpolar": [
           {
            "marker": {
             "line": {
              "color": "#E5ECF6",
              "width": 0.5
             },
             "pattern": {
              "fillmode": "overlay",
              "size": 10,
              "solidity": 0.2
             }
            },
            "type": "barpolar"
           }
          ],
          "carpet": [
           {
            "aaxis": {
             "endlinecolor": "#2a3f5f",
             "gridcolor": "white",
             "linecolor": "white",
             "minorgridcolor": "white",
             "startlinecolor": "#2a3f5f"
            },
            "baxis": {
             "endlinecolor": "#2a3f5f",
             "gridcolor": "white",
             "linecolor": "white",
             "minorgridcolor": "white",
             "startlinecolor": "#2a3f5f"
            },
            "type": "carpet"
           }
          ],
          "choropleth": [
           {
            "colorbar": {
             "outlinewidth": 0,
             "ticks": ""
            },
            "type": "choropleth"
           }
          ],
          "contour": [
           {
            "colorbar": {
             "outlinewidth": 0,
             "ticks": ""
            },
            "colorscale": [
             [
              0,
              "#0d0887"
             ],
             [
              0.1111111111111111,
              "#46039f"
             ],
             [
              0.2222222222222222,
              "#7201a8"
             ],
             [
              0.3333333333333333,
              "#9c179e"
             ],
             [
              0.4444444444444444,
              "#bd3786"
             ],
             [
              0.5555555555555556,
              "#d8576b"
             ],
             [
              0.6666666666666666,
              "#ed7953"
             ],
             [
              0.7777777777777778,
              "#fb9f3a"
             ],
             [
              0.8888888888888888,
              "#fdca26"
             ],
             [
              1,
              "#f0f921"
             ]
            ],
            "type": "contour"
           }
          ],
          "contourcarpet": [
           {
            "colorbar": {
             "outlinewidth": 0,
             "ticks": ""
            },
            "type": "contourcarpet"
           }
          ],
          "heatmap": [
           {
            "colorbar": {
             "outlinewidth": 0,
             "ticks": ""
            },
            "colorscale": [
             [
              0,
              "#0d0887"
             ],
             [
              0.1111111111111111,
              "#46039f"
             ],
             [
              0.2222222222222222,
              "#7201a8"
             ],
             [
              0.3333333333333333,
              "#9c179e"
             ],
             [
              0.4444444444444444,
              "#bd3786"
             ],
             [
              0.5555555555555556,
              "#d8576b"
             ],
             [
              0.6666666666666666,
              "#ed7953"
             ],
             [
              0.7777777777777778,
              "#fb9f3a"
             ],
             [
              0.8888888888888888,
              "#fdca26"
             ],
             [
              1,
              "#f0f921"
             ]
            ],
            "type": "heatmap"
           }
          ],
          "heatmapgl": [
           {
            "colorbar": {
             "outlinewidth": 0,
             "ticks": ""
            },
            "colorscale": [
             [
              0,
              "#0d0887"
             ],
             [
              0.1111111111111111,
              "#46039f"
             ],
             [
              0.2222222222222222,
              "#7201a8"
             ],
             [
              0.3333333333333333,
              "#9c179e"
             ],
             [
              0.4444444444444444,
              "#bd3786"
             ],
             [
              0.5555555555555556,
              "#d8576b"
             ],
             [
              0.6666666666666666,
              "#ed7953"
             ],
             [
              0.7777777777777778,
              "#fb9f3a"
             ],
             [
              0.8888888888888888,
              "#fdca26"
             ],
             [
              1,
              "#f0f921"
             ]
            ],
            "type": "heatmapgl"
           }
          ],
          "histogram": [
           {
            "marker": {
             "pattern": {
              "fillmode": "overlay",
              "size": 10,
              "solidity": 0.2
             }
            },
            "type": "histogram"
           }
          ],
          "histogram2d": [
           {
            "colorbar": {
             "outlinewidth": 0,
             "ticks": ""
            },
            "colorscale": [
             [
              0,
              "#0d0887"
             ],
             [
              0.1111111111111111,
              "#46039f"
             ],
             [
              0.2222222222222222,
              "#7201a8"
             ],
             [
              0.3333333333333333,
              "#9c179e"
             ],
             [
              0.4444444444444444,
              "#bd3786"
             ],
             [
              0.5555555555555556,
              "#d8576b"
             ],
             [
              0.6666666666666666,
              "#ed7953"
             ],
             [
              0.7777777777777778,
              "#fb9f3a"
             ],
             [
              0.8888888888888888,
              "#fdca26"
             ],
             [
              1,
              "#f0f921"
             ]
            ],
            "type": "histogram2d"
           }
          ],
          "histogram2dcontour": [
           {
            "colorbar": {
             "outlinewidth": 0,
             "ticks": ""
            },
            "colorscale": [
             [
              0,
              "#0d0887"
             ],
             [
              0.1111111111111111,
              "#46039f"
             ],
             [
              0.2222222222222222,
              "#7201a8"
             ],
             [
              0.3333333333333333,
              "#9c179e"
             ],
             [
              0.4444444444444444,
              "#bd3786"
             ],
             [
              0.5555555555555556,
              "#d8576b"
             ],
             [
              0.6666666666666666,
              "#ed7953"
             ],
             [
              0.7777777777777778,
              "#fb9f3a"
             ],
             [
              0.8888888888888888,
              "#fdca26"
             ],
             [
              1,
              "#f0f921"
             ]
            ],
            "type": "histogram2dcontour"
           }
          ],
          "mesh3d": [
           {
            "colorbar": {
             "outlinewidth": 0,
             "ticks": ""
            },
            "type": "mesh3d"
           }
          ],
          "parcoords": [
           {
            "line": {
             "colorbar": {
              "outlinewidth": 0,
              "ticks": ""
             }
            },
            "type": "parcoords"
           }
          ],
          "pie": [
           {
            "automargin": true,
            "type": "pie"
           }
          ],
          "scatter": [
           {
            "fillpattern": {
             "fillmode": "overlay",
             "size": 10,
             "solidity": 0.2
            },
            "type": "scatter"
           }
          ],
          "scatter3d": [
           {
            "line": {
             "colorbar": {
              "outlinewidth": 0,
              "ticks": ""
             }
            },
            "marker": {
             "colorbar": {
              "outlinewidth": 0,
              "ticks": ""
             }
            },
            "type": "scatter3d"
           }
          ],
          "scattercarpet": [
           {
            "marker": {
             "colorbar": {
              "outlinewidth": 0,
              "ticks": ""
             }
            },
            "type": "scattercarpet"
           }
          ],
          "scattergeo": [
           {
            "marker": {
             "colorbar": {
              "outlinewidth": 0,
              "ticks": ""
             }
            },
            "type": "scattergeo"
           }
          ],
          "scattergl": [
           {
            "marker": {
             "colorbar": {
              "outlinewidth": 0,
              "ticks": ""
             }
            },
            "type": "scattergl"
           }
          ],
          "scattermapbox": [
           {
            "marker": {
             "colorbar": {
              "outlinewidth": 0,
              "ticks": ""
             }
            },
            "type": "scattermapbox"
           }
          ],
          "scatterpolar": [
           {
            "marker": {
             "colorbar": {
              "outlinewidth": 0,
              "ticks": ""
             }
            },
            "type": "scatterpolar"
           }
          ],
          "scatterpolargl": [
           {
            "marker": {
             "colorbar": {
              "outlinewidth": 0,
              "ticks": ""
             }
            },
            "type": "scatterpolargl"
           }
          ],
          "scatterternary": [
           {
            "marker": {
             "colorbar": {
              "outlinewidth": 0,
              "ticks": ""
             }
            },
            "type": "scatterternary"
           }
          ],
          "surface": [
           {
            "colorbar": {
             "outlinewidth": 0,
             "ticks": ""
            },
            "colorscale": [
             [
              0,
              "#0d0887"
             ],
             [
              0.1111111111111111,
              "#46039f"
             ],
             [
              0.2222222222222222,
              "#7201a8"
             ],
             [
              0.3333333333333333,
              "#9c179e"
             ],
             [
              0.4444444444444444,
              "#bd3786"
             ],
             [
              0.5555555555555556,
              "#d8576b"
             ],
             [
              0.6666666666666666,
              "#ed7953"
             ],
             [
              0.7777777777777778,
              "#fb9f3a"
             ],
             [
              0.8888888888888888,
              "#fdca26"
             ],
             [
              1,
              "#f0f921"
             ]
            ],
            "type": "surface"
           }
          ],
          "table": [
           {
            "cells": {
             "fill": {
              "color": "#EBF0F8"
             },
             "line": {
              "color": "white"
             }
            },
            "header": {
             "fill": {
              "color": "#C8D4E3"
             },
             "line": {
              "color": "white"
             }
            },
            "type": "table"
           }
          ]
         },
         "layout": {
          "annotationdefaults": {
           "arrowcolor": "#2a3f5f",
           "arrowhead": 0,
           "arrowwidth": 1
          },
          "autotypenumbers": "strict",
          "coloraxis": {
           "colorbar": {
            "outlinewidth": 0,
            "ticks": ""
           }
          },
          "colorscale": {
           "diverging": [
            [
             0,
             "#8e0152"
            ],
            [
             0.1,
             "#c51b7d"
            ],
            [
             0.2,
             "#de77ae"
            ],
            [
             0.3,
             "#f1b6da"
            ],
            [
             0.4,
             "#fde0ef"
            ],
            [
             0.5,
             "#f7f7f7"
            ],
            [
             0.6,
             "#e6f5d0"
            ],
            [
             0.7,
             "#b8e186"
            ],
            [
             0.8,
             "#7fbc41"
            ],
            [
             0.9,
             "#4d9221"
            ],
            [
             1,
             "#276419"
            ]
           ],
           "sequential": [
            [
             0,
             "#0d0887"
            ],
            [
             0.1111111111111111,
             "#46039f"
            ],
            [
             0.2222222222222222,
             "#7201a8"
            ],
            [
             0.3333333333333333,
             "#9c179e"
            ],
            [
             0.4444444444444444,
             "#bd3786"
            ],
            [
             0.5555555555555556,
             "#d8576b"
            ],
            [
             0.6666666666666666,
             "#ed7953"
            ],
            [
             0.7777777777777778,
             "#fb9f3a"
            ],
            [
             0.8888888888888888,
             "#fdca26"
            ],
            [
             1,
             "#f0f921"
            ]
           ],
           "sequentialminus": [
            [
             0,
             "#0d0887"
            ],
            [
             0.1111111111111111,
             "#46039f"
            ],
            [
             0.2222222222222222,
             "#7201a8"
            ],
            [
             0.3333333333333333,
             "#9c179e"
            ],
            [
             0.4444444444444444,
             "#bd3786"
            ],
            [
             0.5555555555555556,
             "#d8576b"
            ],
            [
             0.6666666666666666,
             "#ed7953"
            ],
            [
             0.7777777777777778,
             "#fb9f3a"
            ],
            [
             0.8888888888888888,
             "#fdca26"
            ],
            [
             1,
             "#f0f921"
            ]
           ]
          },
          "colorway": [
           "#636efa",
           "#EF553B",
           "#00cc96",
           "#ab63fa",
           "#FFA15A",
           "#19d3f3",
           "#FF6692",
           "#B6E880",
           "#FF97FF",
           "#FECB52"
          ],
          "font": {
           "color": "#2a3f5f"
          },
          "geo": {
           "bgcolor": "white",
           "lakecolor": "white",
           "landcolor": "#E5ECF6",
           "showlakes": true,
           "showland": true,
           "subunitcolor": "white"
          },
          "hoverlabel": {
           "align": "left"
          },
          "hovermode": "closest",
          "mapbox": {
           "style": "light"
          },
          "paper_bgcolor": "white",
          "plot_bgcolor": "#E5ECF6",
          "polar": {
           "angularaxis": {
            "gridcolor": "white",
            "linecolor": "white",
            "ticks": ""
           },
           "bgcolor": "#E5ECF6",
           "radialaxis": {
            "gridcolor": "white",
            "linecolor": "white",
            "ticks": ""
           }
          },
          "scene": {
           "xaxis": {
            "backgroundcolor": "#E5ECF6",
            "gridcolor": "white",
            "gridwidth": 2,
            "linecolor": "white",
            "showbackground": true,
            "ticks": "",
            "zerolinecolor": "white"
           },
           "yaxis": {
            "backgroundcolor": "#E5ECF6",
            "gridcolor": "white",
            "gridwidth": 2,
            "linecolor": "white",
            "showbackground": true,
            "ticks": "",
            "zerolinecolor": "white"
           },
           "zaxis": {
            "backgroundcolor": "#E5ECF6",
            "gridcolor": "white",
            "gridwidth": 2,
            "linecolor": "white",
            "showbackground": true,
            "ticks": "",
            "zerolinecolor": "white"
           }
          },
          "shapedefaults": {
           "line": {
            "color": "#2a3f5f"
           }
          },
          "ternary": {
           "aaxis": {
            "gridcolor": "white",
            "linecolor": "white",
            "ticks": ""
           },
           "baxis": {
            "gridcolor": "white",
            "linecolor": "white",
            "ticks": ""
           },
           "bgcolor": "#E5ECF6",
           "caxis": {
            "gridcolor": "white",
            "linecolor": "white",
            "ticks": ""
           }
          },
          "title": {
           "x": 0.05
          },
          "xaxis": {
           "automargin": true,
           "gridcolor": "white",
           "linecolor": "white",
           "ticks": "",
           "title": {
            "standoff": 15
           },
           "zerolinecolor": "white",
           "zerolinewidth": 2
          },
          "yaxis": {
           "automargin": true,
           "gridcolor": "white",
           "linecolor": "white",
           "ticks": "",
           "title": {
            "standoff": 15
           },
           "zerolinecolor": "white",
           "zerolinewidth": 2
          }
         }
        },
        "title": {
         "text": "Les 20 meilleurs hôtels dans les villes les plus chaudes"
        }
       }
      }
     },
     "metadata": {},
     "output_type": "display_data"
    }
   ],
   "source": [
    "# Visualisation des 5 villes les plus chaudes\n",
    "fig = px.scatter_mapbox(villes_chaudes, lat=\"Latitude\", lon=\"Longitude\", hover_name=\"City\", \n",
    "                        hover_data=[\"temperature_moyenne\"],\n",
    "                        color=\"temperature_moyenne\", color_continuous_scale=[\"blue\", \"purple\", \"red\"], \n",
    "                        zoom=4, height=300)\n",
    "\n",
    "fig.update_layout(mapbox_style=\"open-street-map\")\n",
    "fig.update_layout(margin={\"r\":0,\"t\":0,\"l\":0,\"b\":0})\n",
    "fig.update_layout(title=\"Les 5 villes les plus chaudes en France\")\n",
    "fig.show()\n",
    "\n",
    "# Visualisation des 20 meilleurs hôtels dans les villes les plus chaudes\n",
    "fig = px.scatter_mapbox(hotels_villes_chaudes, lat=\"Latitude\", lon=\"Longitude\", hover_name=\"Hotel_Name\",\n",
    "                        hover_data=[\"Score\"],\n",
    "                        color=\"Score\", color_continuous_scale=\"Viridis\", \n",
    "                        zoom=4, height=300)\n",
    "\n",
    "fig.update_layout(mapbox_style=\"open-street-map\")\n",
    "fig.update_layout(margin={\"r\":0,\"t\":0,\"l\":0,\"b\":0})\n",
    "fig.update_layout(title=\"Les 20 meilleurs hôtels dans les villes les plus chaudes\")\n",
    "fig.show()"
   ]
  },
  {
   "cell_type": "markdown",
   "metadata": {},
   "source": [
    "### Amélioration de la visualisation\n",
    "Maintenant il serait intéressant d'avoir une carte interactive ou il est possible de choisir ses critères météos et de pouvoir également cliquer sur les hotels."
   ]
  },
  {
   "cell_type": "code",
   "execution_count": null,
   "metadata": {},
   "outputs": [
    {
     "name": "stdout",
     "output_type": "stream",
     "text": [
      "Carte créée avec succès ! Ouvrez carte_hotels.html dans votre navigateur.\n"
     ]
    }
   ],
   "source": [
    "# travail optionnel : test création carte interactive avec folium et hebergement sur github.io\n",
    "\n",
    "def create_weather_map(resultats):\n",
    "    # Créer une carte centrée sur la France\n",
    "    m = folium.Map(location=[46.603354, 1.888334], zoom_start=6)\n",
    "    \n",
    "    # Créer les groupes principaux pour chaque type de météo\n",
    "    layers = {}\n",
    "    \n",
    "    # Définir des couleurs avec plus de contraste\n",
    "    color_scale = {\n",
    "        1: '#FF0000',    # Rouge vif\n",
    "        2: '#9400D3',    # Violet profond\n",
    "        3: '#0000FF',    # Bleu pur\n",
    "        4: '#006400',    # Vert foncé\n",
    "        5: '#000080'     # Bleu marine\n",
    "    }\n",
    "    \n",
    "    # Opacités différentes pour distinguer ville principale et hôtels\n",
    "    CITY_OPACITY = 0.9\n",
    "    HOTEL_OPACITY = 0.6\n",
    "    \n",
    "    for weather_type in resultats.keys():\n",
    "        layers[weather_type] = folium.FeatureGroup(name=f\"Villes {weather_type}\")\n",
    "    \n",
    "    for weather_type, df in resultats.items():\n",
    "        # Grouper par ville\n",
    "        cities = df.groupby('City').agg({\n",
    "            'Latitude': 'first',\n",
    "            'Longitude': 'first',\n",
    "            'Score': ['mean', 'count']\n",
    "        }).reset_index()\n",
    "        \n",
    "        cities.columns = ['City', 'Latitude', 'Longitude', 'Score_mean', 'Hotel_count']\n",
    "        cities = cities.sort_values('Score_mean', ascending=False)\n",
    "        \n",
    "        # Ajouter les marqueurs des villes\n",
    "        for idx, city in cities.iterrows():\n",
    "            rank = idx + 1\n",
    "            color = color_scale[min(rank, 5)]\n",
    "            \n",
    "            # Liste des hôtels pour le popup\n",
    "            hotels_list = df[df['City'] == city['City']].sort_values('Score', ascending=False)\n",
    "            hotels_html = \"\".join([\n",
    "                f\"\"\"\n",
    "                <tr>\n",
    "                    <td style='padding:2px'>{hotel['Hotel_Name']}</td>\n",
    "                    <td style='padding:2px;text-align:right'>{hotel['Score']:.1f}</td>\n",
    "                </tr>\n",
    "                \"\"\" for _, hotel in hotels_list.iterrows()\n",
    "            ])\n",
    "            \n",
    "            # Popup pour la ville avec style amélioré\n",
    "            city_popup = folium.Popup(\n",
    "                f\"\"\"\n",
    "                <div style='width:300px'>\n",
    "                <h4 style='margin:0;padding:5px;background-color:{color};color:white'>\n",
    "                    {city['City']} (Rang: {rank})\n",
    "                </h4>\n",
    "                <div style='padding:5px'>\n",
    "                    <b>Score moyen:</b> {city['Score_mean']:.1f}<br>\n",
    "                    <b>Nombre d'hôtels:</b> {city['Hotel_count']}\n",
    "                </div>\n",
    "                <div style='max-height:200px;overflow:auto'>\n",
    "                    <table style='width:100%;border-collapse:collapse'>\n",
    "                        <tr style='background-color:#f0f0f0'>\n",
    "                            <th style='text-align:left;padding:5px'>Hôtel</th>\n",
    "                            <th style='text-align:right;padding:5px'>Score</th>\n",
    "                        </tr>\n",
    "                        {hotels_html}\n",
    "                    </table>\n",
    "                </div>\n",
    "                </div>\n",
    "                \"\"\",\n",
    "                max_width=300\n",
    "            )\n",
    "            \n",
    "            # Marqueur principal pour la ville\n",
    "            folium.CircleMarker(\n",
    "                location=[city['Latitude'], city['Longitude']],\n",
    "                radius=7,\n",
    "                popup=city_popup,\n",
    "                color=color,\n",
    "                fill=True,\n",
    "                fill_color=color,\n",
    "                fill_opacity=CITY_OPACITY,\n",
    "                weight=2\n",
    "            ).add_to(layers[weather_type])\n",
    "            \n",
    "            # Hôtels autour\n",
    "            for _, hotel in hotels_list.iterrows():\n",
    "                lat_offset = random.uniform(-0.001, 0.001)\n",
    "                lon_offset = random.uniform(-0.001, 0.001)\n",
    "                \n",
    "                folium.CircleMarker(\n",
    "                    location=[\n",
    "                        hotel['Latitude'] + lat_offset,\n",
    "                        hotel['Longitude'] + lon_offset\n",
    "                    ],\n",
    "                    radius=3,\n",
    "                    popup=folium.Popup(\n",
    "                        f\"\"\"\n",
    "                        <div style='width:200px'>\n",
    "                        <h4 style='margin:0;padding:5px;background-color:{color};color:white'>\n",
    "                            {hotel['Hotel_Name']}\n",
    "                        </h4>\n",
    "                        <div style='padding:5px'>\n",
    "                            Score: {hotel['Score']:.1f}<br>\n",
    "                            <a href=\"{hotel['Hotel_URL']}\" target=\"_blank\">Voir sur Booking</a>\n",
    "                        </div>\n",
    "                        </div>\n",
    "                        \"\"\",\n",
    "                        max_width=300\n",
    "                    ),\n",
    "                    color=color,\n",
    "                    fill=True,\n",
    "                    fill_color=color,\n",
    "                    fill_opacity=HOTEL_OPACITY,\n",
    "                    weight=1\n",
    "                ).add_to(layers[weather_type])\n",
    "    \n",
    "    # Ajouter les couches à la carte\n",
    "    for layer in layers.values():\n",
    "        layer.add_to(m)\n",
    "    \n",
    "    # Contrôle des couches\n",
    "    folium.LayerControl(collapsed=False).add_to(m)\n",
    "    \n",
    "    # Légende avec les nouvelles couleurs\n",
    "    legend_html = \"\"\"\n",
    "    <div style=\"position: fixed; \n",
    "                bottom: 50px; right: 50px; width: 150px;\n",
    "                border:2px solid grey; z-index:9999; \n",
    "                background-color:white;\n",
    "                padding: 10px;\n",
    "                font-size: 14px;\n",
    "                opacity: 0.9;\n",
    "                \">\n",
    "    <b>Classement</b><br>\n",
    "    <i class=\"fa fa-circle\" style=\"color:#FF0000\"></i> 1er<br>\n",
    "    <i class=\"fa fa-circle\" style=\"color:#9400D3\"></i> 2ème<br>\n",
    "    <i class=\"fa fa-circle\" style=\"color:#0000FF\"></i> 3ème<br>\n",
    "    <i class=\"fa fa-circle\" style=\"color:#006400\"></i> 4ème<br>\n",
    "    <i class=\"fa fa-circle\" style=\"color:#000080\"></i> 5ème\n",
    "    </div>\n",
    "    \"\"\"\n",
    "    m.get_root().html.add_child(folium.Element(legend_html))\n",
    "    \n",
    "    return m\n",
    "\n",
    "# Utilisation :\n",
    "try:\n",
    "    # Créer la carte avec nos résultats\n",
    "    carte = create_weather_map(resultats)\n",
    "    \n",
    "    # Sauvegarder la carte en HTML\n",
    "    carte.save('carte_hotels.html')\n",
    "    print(\"Carte créée avec succès ! Ouvrez carte_hotels.html dans votre navigateur.\")\n",
    "except Exception as e:\n",
    "    print(f\"Erreur lors de la création de la carte : {e}\")"
   ]
  },
  {
   "cell_type": "markdown",
   "metadata": {},
   "source": [
    "La carte est assez fonctionnelle mais mérites des retouches pour améliorer l'expérience utilisateur."
   ]
  }
 ],
 "metadata": {
  "kernelspec": {
   "display_name": "base",
   "language": "python",
   "name": "python3"
  },
  "language_info": {
   "codemirror_mode": {
    "name": "ipython",
    "version": 3
   },
   "file_extension": ".py",
   "mimetype": "text/x-python",
   "name": "python",
   "nbconvert_exporter": "python",
   "pygments_lexer": "ipython3",
   "version": "3.11.7"
  }
 },
 "nbformat": 4,
 "nbformat_minor": 4
}
